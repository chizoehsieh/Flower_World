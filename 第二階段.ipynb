{
  "cells": [
    {
      "cell_type": "code",
      "execution_count": null,
      "metadata": {
        "colab": {
          "base_uri": "https://localhost:8080/"
        },
        "id": "FZ5-8MrpYnkE",
        "outputId": "a706fccf-f45d-44f0-9025-97dcac4fee91"
      },
      "outputs": [],
      "source": [
        "from google.colab import drive\n",
        "drive.mount('/content/drive')"
      ]
    },
    {
      "cell_type": "code",
      "execution_count": null,
      "metadata": {
        "colab": {
          "base_uri": "https://localhost:8080/"
        },
        "id": "eouHyOykYuUr",
        "outputId": "6e432801-ed6c-4297-91e9-44ea5cb5da17"
      },
      "outputs": [],
      "source": [
        "%cd \"YoloTest/YOLOv5_ObjectDetection\""
      ]
    },
    {
      "cell_type": "code",
      "execution_count": null,
      "metadata": {
        "colab": {
          "base_uri": "https://localhost:8080/"
        },
        "id": "TKaN7LegYzrT",
        "outputId": "7ede3d15-5440-46c5-9178-5c152a32eeca"
      },
      "outputs": [],
      "source": [
        "#clone YOLOv5 下載 YOLOv5 原始碼\n",
        "!git clone https://github.com/ultralytics/yolov5  # clone repo\n",
        "%cd yolov5"
      ]
    },
    {
      "cell_type": "code",
      "execution_count": null,
      "metadata": {
        "colab": {
          "base_uri": "https://localhost:8080/"
        },
        "id": "Sa2HGZxRY1f0",
        "outputId": "6e1d54ea-404e-498a-9314-910308fbbd51"
      },
      "outputs": [],
      "source": [
        "# 安裝 yolov5 所需環境\n",
        "# cd yolov5\n",
        "!pip install -r requirements.txt"
      ]
    },
    {
      "cell_type": "code",
      "execution_count": null,
      "metadata": {
        "colab": {
          "base_uri": "https://localhost:8080/"
        },
        "id": "ROV3o_3kZZJS",
        "outputId": "3f0f88ee-f9ea-49ad-bb73-58708dc13f8c"
      },
      "outputs": [],
      "source": [
        "%cd \"YoloTest/YOLOv5_ObjectDetection/yolov5\"\n",
        "!python train.py --img-size 640 --batch 16 --epochs 100 \\\n",
        "  --data flower.yaml --weights yolov5m.pt"
      ]
    },
    {
      "cell_type": "code",
      "execution_count": null,
      "metadata": {
        "colab": {
          "base_uri": "https://localhost:8080/"
        },
        "id": "0z9r9Srgmu4S",
        "outputId": "fbc73862-6d82-42d3-ecd1-6813ee3d54ed"
      },
      "outputs": [],
      "source": [
        "%cd \"YoloTest/YOLOv5_ObjectDetection/yolov5\"\n",
        "!python detect.py --weight runs/train/exp3/weights/best.pt \\\n",
        "  --source yolo/dataset/test/glory.png --iou-thres 0.05 --conf-thres 0.05"
      ]
    },
    {
      "cell_type": "code",
      "execution_count": null,
      "metadata": {
        "id": "5WmFOmlmdIY-"
      },
      "outputs": [],
      "source": [
        "%cd \"YoloTest/YOLOv5_ObjectDetection/yolov5\"\n",
        "!python detect.py --weight runs/train/exp8/weights/best.pt \\\n",
        "  --source yolo/dataset/test/banana.png --iou-thres 0.05 --conf-thres 0.05"
      ]
    },
    {
      "cell_type": "code",
      "execution_count": null,
      "metadata": {
        "colab": {
          "base_uri": "https://localhost:8080/",
          "height": 282
        },
        "id": "5-GyT6QNcMoQ",
        "outputId": "afc692ea-333b-4035-f56a-8d5080f6eba9"
      },
      "outputs": [
        {
          "name": "stderr",
          "output_type": "stream",
          "text": [
            "Using cache found in /root/.cache/torch/hub/ultralytics_yolov5_master\n",
            "YOLOv5 🚀 2022-12-31 Python-3.8.16 torch-1.13.0+cu116 CPU\n",
            "\n",
            "Fusing layers... \n",
            "Model summary: 157 layers, 7018216 parameters, 0 gradients\n",
            "Adding AutoShape... \n",
            "image 1/1: 2168x3001 1 chrysanthemum, 1 glory, 1 maple\n",
            "Speed: 309.2ms pre-process, 299.6ms inference, 0.9ms NMS per image at shape (1, 3, 480, 640)\n"
          ]
        },
        {
          "data": {
            "text/html": [
              "\n",
              "  <div id=\"df-2227eb71-8f1a-44e8-af07-eb0a4fba81dc\">\n",
              "    <div class=\"colab-df-container\">\n",
              "      <div>\n",
              "<style scoped>\n",
              "    .dataframe tbody tr th:only-of-type {\n",
              "        vertical-align: middle;\n",
              "    }\n",
              "\n",
              "    .dataframe tbody tr th {\n",
              "        vertical-align: top;\n",
              "    }\n",
              "\n",
              "    .dataframe thead th {\n",
              "        text-align: right;\n",
              "    }\n",
              "</style>\n",
              "<table border=\"1\" class=\"dataframe\">\n",
              "  <thead>\n",
              "    <tr style=\"text-align: right;\">\n",
              "      <th></th>\n",
              "      <th>xmin</th>\n",
              "      <th>ymin</th>\n",
              "      <th>xmax</th>\n",
              "      <th>ymax</th>\n",
              "      <th>confidence</th>\n",
              "      <th>class</th>\n",
              "      <th>name</th>\n",
              "    </tr>\n",
              "  </thead>\n",
              "  <tbody>\n",
              "    <tr>\n",
              "      <th>0</th>\n",
              "      <td>1004.955627</td>\n",
              "      <td>0.000000</td>\n",
              "      <td>3001.000000</td>\n",
              "      <td>1992.067383</td>\n",
              "      <td>0.883271</td>\n",
              "      <td>2</td>\n",
              "      <td>maple</td>\n",
              "    </tr>\n",
              "    <tr>\n",
              "      <th>1</th>\n",
              "      <td>90.584282</td>\n",
              "      <td>55.917965</td>\n",
              "      <td>995.656433</td>\n",
              "      <td>767.884155</td>\n",
              "      <td>0.882472</td>\n",
              "      <td>0</td>\n",
              "      <td>chrysanthemum</td>\n",
              "    </tr>\n",
              "    <tr>\n",
              "      <th>2</th>\n",
              "      <td>609.174988</td>\n",
              "      <td>1369.557983</td>\n",
              "      <td>1474.507202</td>\n",
              "      <td>2168.000000</td>\n",
              "      <td>0.811692</td>\n",
              "      <td>1</td>\n",
              "      <td>glory</td>\n",
              "    </tr>\n",
              "  </tbody>\n",
              "</table>\n",
              "</div>\n",
              "      <button class=\"colab-df-convert\" onclick=\"convertToInteractive('df-2227eb71-8f1a-44e8-af07-eb0a4fba81dc')\"\n",
              "              title=\"Convert this dataframe to an interactive table.\"\n",
              "              style=\"display:none;\">\n",
              "        \n",
              "  <svg xmlns=\"http://www.w3.org/2000/svg\" height=\"24px\"viewBox=\"0 0 24 24\"\n",
              "       width=\"24px\">\n",
              "    <path d=\"M0 0h24v24H0V0z\" fill=\"none\"/>\n",
              "    <path d=\"M18.56 5.44l.94 2.06.94-2.06 2.06-.94-2.06-.94-.94-2.06-.94 2.06-2.06.94zm-11 1L8.5 8.5l.94-2.06 2.06-.94-2.06-.94L8.5 2.5l-.94 2.06-2.06.94zm10 10l.94 2.06.94-2.06 2.06-.94-2.06-.94-.94-2.06-.94 2.06-2.06.94z\"/><path d=\"M17.41 7.96l-1.37-1.37c-.4-.4-.92-.59-1.43-.59-.52 0-1.04.2-1.43.59L10.3 9.45l-7.72 7.72c-.78.78-.78 2.05 0 2.83L4 21.41c.39.39.9.59 1.41.59.51 0 1.02-.2 1.41-.59l7.78-7.78 2.81-2.81c.8-.78.8-2.07 0-2.86zM5.41 20L4 18.59l7.72-7.72 1.47 1.35L5.41 20z\"/>\n",
              "  </svg>\n",
              "      </button>\n",
              "      \n",
              "  <style>\n",
              "    .colab-df-container {\n",
              "      display:flex;\n",
              "      flex-wrap:wrap;\n",
              "      gap: 12px;\n",
              "    }\n",
              "\n",
              "    .colab-df-convert {\n",
              "      background-color: #E8F0FE;\n",
              "      border: none;\n",
              "      border-radius: 50%;\n",
              "      cursor: pointer;\n",
              "      display: none;\n",
              "      fill: #1967D2;\n",
              "      height: 32px;\n",
              "      padding: 0 0 0 0;\n",
              "      width: 32px;\n",
              "    }\n",
              "\n",
              "    .colab-df-convert:hover {\n",
              "      background-color: #E2EBFA;\n",
              "      box-shadow: 0px 1px 2px rgba(60, 64, 67, 0.3), 0px 1px 3px 1px rgba(60, 64, 67, 0.15);\n",
              "      fill: #174EA6;\n",
              "    }\n",
              "\n",
              "    [theme=dark] .colab-df-convert {\n",
              "      background-color: #3B4455;\n",
              "      fill: #D2E3FC;\n",
              "    }\n",
              "\n",
              "    [theme=dark] .colab-df-convert:hover {\n",
              "      background-color: #434B5C;\n",
              "      box-shadow: 0px 1px 3px 1px rgba(0, 0, 0, 0.15);\n",
              "      filter: drop-shadow(0px 1px 2px rgba(0, 0, 0, 0.3));\n",
              "      fill: #FFFFFF;\n",
              "    }\n",
              "  </style>\n",
              "\n",
              "      <script>\n",
              "        const buttonEl =\n",
              "          document.querySelector('#df-2227eb71-8f1a-44e8-af07-eb0a4fba81dc button.colab-df-convert');\n",
              "        buttonEl.style.display =\n",
              "          google.colab.kernel.accessAllowed ? 'block' : 'none';\n",
              "\n",
              "        async function convertToInteractive(key) {\n",
              "          const element = document.querySelector('#df-2227eb71-8f1a-44e8-af07-eb0a4fba81dc');\n",
              "          const dataTable =\n",
              "            await google.colab.kernel.invokeFunction('convertToInteractive',\n",
              "                                                     [key], {});\n",
              "          if (!dataTable) return;\n",
              "\n",
              "          const docLinkHtml = 'Like what you see? Visit the ' +\n",
              "            '<a target=\"_blank\" href=https://colab.research.google.com/notebooks/data_table.ipynb>data table notebook</a>'\n",
              "            + ' to learn more about interactive tables.';\n",
              "          element.innerHTML = '';\n",
              "          dataTable['output_type'] = 'display_data';\n",
              "          await google.colab.output.renderOutput(dataTable, element);\n",
              "          const docLink = document.createElement('div');\n",
              "          docLink.innerHTML = docLinkHtml;\n",
              "          element.appendChild(docLink);\n",
              "        }\n",
              "      </script>\n",
              "    </div>\n",
              "  </div>\n",
              "  "
            ],
            "text/plain": [
              "          xmin         ymin         xmax         ymax  confidence  class  \\\n",
              "0  1004.955627     0.000000  3001.000000  1992.067383    0.883271      2   \n",
              "1    90.584282    55.917965   995.656433   767.884155    0.882472      0   \n",
              "2   609.174988  1369.557983  1474.507202  2168.000000    0.811692      1   \n",
              "\n",
              "            name  \n",
              "0          maple  \n",
              "1  chrysanthemum  \n",
              "2          glory  "
            ]
          },
          "execution_count": 27,
          "metadata": {},
          "output_type": "execute_result"
        }
      ],
      "source": [
        "import torch\n",
        "\n",
        "# 載入自行訓練的 YOLOv5 模型\n",
        "model = torch.hub.load('ultralytics/yolov5', 'custom', path='runs/train/exp3/weights/best.pt')\n",
        "\n",
        "# 影像來源\n",
        "# img = '../../../../智慧多媒體/yolo/dataset/test/flower_test.png'\n",
        "img = 'yolo/dataset/test/flower_test.png'\n",
        "\n",
        "# 設定 IoU 門檻值\n",
        "model.iou = 0.5\n",
        "\n",
        "# 設定信心門檻值\n",
        "model.conf = 0.8\n",
        "\n",
        "# 進行物件偵測\n",
        "results = model(img)\n",
        "\n",
        "# 顯示結果摘要\n",
        "results.print()\n",
        "results.pandas().xyxy[0]"
      ]
    },
    {
      "cell_type": "code",
      "execution_count": null,
      "metadata": {
        "colab": {
          "base_uri": "https://localhost:8080/"
        },
        "id": "m1DLPTQvymr0",
        "outputId": "a3e18006-0213-4f72-9a95-6c94ed5c3a6f"
      },
      "outputs": [
        {
          "name": "stdout",
          "output_type": "stream",
          "text": [
            "{0, 1, 2}\n"
          ]
        }
      ],
      "source": [
        "s = set()\n",
        "forms = results.pandas().xyxy[0]\n",
        "for i,r in forms.iterrows():\n",
        "  # print(r)\n",
        "  s.add(r['class'])\n",
        "\n",
        "print(s)"
      ]
    }
  ],
  "metadata": {
    "colab": {
      "provenance": []
    },
    "kernelspec": {
      "display_name": "Python 3",
      "name": "python3"
    },
    "language_info": {
      "name": "python"
    }
  },
  "nbformat": 4,
  "nbformat_minor": 0
}
