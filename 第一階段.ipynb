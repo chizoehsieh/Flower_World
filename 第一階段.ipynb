{
  "cells": [
    {
      "cell_type": "code",
      "execution_count": null,
      "metadata": {
        "colab": {
          "base_uri": "https://localhost:8080/"
        },
        "id": "A2kYKOkKs1HJ",
        "outputId": "89332166-79c2-4e34-818b-1e94409e640b"
      },
      "outputs": [
        {
          "name": "stdout",
          "output_type": "stream",
          "text": [
            "Looking in indexes: https://pypi.org/simple, https://us-python.pkg.dev/colab-wheels/public/simple/\n",
            "Collecting towhee\n",
            "  Downloading towhee-0.8.1-py3-none-any.whl (301 kB)\n",
            "\u001b[K     |████████████████████████████████| 301 kB 5.0 MB/s \n",
            "\u001b[?25hCollecting pgzip\n",
            "  Downloading pgzip-0.3.4-py3-none-any.whl (12 kB)\n",
            "Requirement already satisfied: tqdm>=4.59.0 in /usr/local/lib/python3.7/dist-packages (from towhee) (4.64.1)\n",
            "Requirement already satisfied: numpy in /usr/local/lib/python3.7/dist-packages (from towhee) (1.21.6)\n",
            "Collecting pygit2\n",
            "  Downloading pygit2-1.10.1-cp37-cp37m-manylinux_2_17_x86_64.manylinux2014_x86_64.whl (4.5 MB)\n",
            "\u001b[K     |████████████████████████████████| 4.5 MB 43.1 MB/s \n",
            "\u001b[?25hRequirement already satisfied: requests>=2.12.5 in /usr/local/lib/python3.7/dist-packages (from towhee) (2.23.0)\n",
            "Requirement already satisfied: pyarrow in /usr/local/lib/python3.7/dist-packages (from towhee) (9.0.0)\n",
            "Requirement already satisfied: tabulate in /usr/local/lib/python3.7/dist-packages (from towhee) (0.8.10)\n",
            "Requirement already satisfied: urllib3!=1.25.0,!=1.25.1,<1.26,>=1.21.1 in /usr/local/lib/python3.7/dist-packages (from requests>=2.12.5->towhee) (1.24.3)\n",
            "Requirement already satisfied: idna<3,>=2.5 in /usr/local/lib/python3.7/dist-packages (from requests>=2.12.5->towhee) (2.10)\n",
            "Requirement already satisfied: chardet<4,>=3.0.2 in /usr/local/lib/python3.7/dist-packages (from requests>=2.12.5->towhee) (3.0.4)\n",
            "Requirement already satisfied: certifi>=2017.4.17 in /usr/local/lib/python3.7/dist-packages (from requests>=2.12.5->towhee) (2022.9.24)\n",
            "Requirement already satisfied: cffi>=1.9.1 in /usr/local/lib/python3.7/dist-packages (from pygit2->towhee) (1.15.1)\n",
            "Requirement already satisfied: cached-property in /usr/local/lib/python3.7/dist-packages (from pygit2->towhee) (1.5.2)\n",
            "Requirement already satisfied: pycparser in /usr/local/lib/python3.7/dist-packages (from cffi>=1.9.1->pygit2->towhee) (2.21)\n",
            "Installing collected packages: pygit2, pgzip, towhee\n",
            "Successfully installed pgzip-0.3.4 pygit2-1.10.1 towhee-0.8.1\n"
          ]
        }
      ],
      "source": [
        "!pip install towhee"
      ]
    },
    {
      "cell_type": "code",
      "execution_count": null,
      "metadata": {
        "colab": {
          "base_uri": "https://localhost:8080/"
        },
        "id": "K2VAH7d-OBCK",
        "outputId": "186d1717-ef22-4f4b-ae7d-060077b9d0e9"
      },
      "outputs": [
        {
          "name": "stdout",
          "output_type": "stream",
          "text": [
            "Cloning into 'milvus'...\n",
            "remote: Enumerating objects: 176442, done.\u001b[K\n",
            "remote: Counting objects: 100% (247/247), done.\u001b[K\n",
            "remote: Compressing objects: 100% (191/191), done.\u001b[K\n",
            "remote: Total 176442 (delta 113), reused 147 (delta 53), pack-reused 176195\u001b[K\n",
            "Receiving objects: 100% (176442/176442), 131.75 MiB | 25.72 MiB/s, done.\n",
            "Resolving deltas: 100% (132747/132747), done.\n"
          ]
        }
      ],
      "source": [
        "!git clone https://github.com/milvus-io/milvus.git"
      ]
    },
    {
      "cell_type": "code",
      "execution_count": null,
      "metadata": {
        "colab": {
          "base_uri": "https://localhost:8080/"
        },
        "id": "vpGAaZ6utDT_",
        "outputId": "ff688951-4c8a-4dbf-8758-b07d1a686588"
      },
      "outputs": [
        {
          "name": "stdout",
          "output_type": "stream",
          "text": [
            "/content/milvus\n",
            "build\t\t    COMMITTERS\t\tgithooks     milvus20vs1x.md  scripts\n",
            "ci\t\t    configs\t\tgo.mod\t     OWNERS\t      tests\n",
            "cmd\t\t    CONTRIBUTING.md\tgo.sum\t     OWNERS_ALIASES   tools\n",
            "codecov.yml\t    deployments\t\tinternal     pkg\n",
            "CODE_OF_CONDUCT.md  DEVELOPMENT.md\tLICENSE      README_CN.md\n",
            "CODE_REVIEW.md\t    docker-compose.yml\tMAINTAINERS  README.md\n",
            "COMMAND_HELP.md     docs\t\tMakefile     rules.go\n",
            "go could not be found, please install it\n",
            "make: go: Command not found\n",
            "Download milvus-proto repo ...\n",
            "/content/milvus/cmake_build/thirdparty /content/milvus\n",
            "Cloning into 'milvus-proto'...\n",
            "remote: Enumerating objects: 243, done.\u001b[K\n",
            "remote: Counting objects: 100% (7/7), done.\u001b[K\n",
            "remote: Compressing objects: 100% (5/5), done.\u001b[K\n",
            "remote: Total 243 (delta 3), reused 2 (delta 2), pack-reused 236\u001b[K\n",
            "Receiving objects: 100% (243/243), 169.80 KiB | 2.21 MiB/s, done.\n",
            "Resolving deltas: 100% (111/111), done.\n",
            "/content/milvus/scripts/download_milvus_proto.sh: line 11: go: command not found\n",
            "version: , commitID: \n",
            "error: switch `b' requires a value\n",
            "usage: git checkout [<options>] <branch>\n",
            "   or: git checkout [<options>] [<branch>] -- <file>...\n",
            "\n",
            "    -q, --quiet           suppress progress reporting\n",
            "    -b <branch>           create and checkout a new branch\n",
            "    -B <branch>           create/reset and checkout a branch\n",
            "    -l                    create reflog for new branch\n",
            "    --detach              detach HEAD at named commit\n",
            "    -t, --track           set upstream info for new branch\n",
            "    --orphan <new-branch>\n",
            "                          new unparented branch\n",
            "    -2, --ours            checkout our version for unmerged files\n",
            "    -3, --theirs          checkout their version for unmerged files\n",
            "    -f, --force           force checkout (throw away local modifications)\n",
            "    -m, --merge           perform a 3-way merge with the new branch\n",
            "    --overwrite-ignore    update ignored files (default)\n",
            "    --conflict <style>    conflict style (merge or diff3)\n",
            "    -p, --patch           select hunks interactively\n",
            "    --ignore-skip-worktree-bits\n",
            "                          do not limit pathspecs to sparse entries only\n",
            "    --ignore-other-worktrees\n",
            "                          do not check if another worktree is holding the given ref\n",
            "    --recurse-submodules[=<checkout>]\n",
            "                          control recursive updating of submodules\n",
            "    --progress            force progress reporting\n",
            "\n",
            "/content/milvus\n",
            "Building Milvus cpp library ...\n",
            "/content/milvus/cmake_build /content/milvus\n",
            "/content/milvus/scripts/core_build.sh: line 196: conan: command not found\n",
            "cmake -DBUILD_UNIT_TEST=OFF -DCMAKE_INSTALL_PREFIX=/content/milvus/internal/core/output -DCMAKE_BUILD_TYPE=Release -DOpenBLAS_SOURCE=AUTO -DCMAKE_CUDA_COMPILER=/usr/local/cuda/bin/nvcc -DBUILD_COVERAGE=OFF -DMILVUS_DB_PATH=/tmp/milvus -DENABLE_CPU_PROFILING=OFF -DMILVUS_GPU_VERSION=OFF -DMILVUS_WITH_PROMETHEUS=ON -DMILVUS_CUDA_ARCH=DEFAULT -DCUSTOM_THIRDPARTY_DOWNLOAD_PATH= -DEMBEDDED_MILVUS=OFF -DBUILD_DISK_ANN=OFF /content/milvus/internal/core\n",
            "-- Building using CMake version: 3.22.6\n",
            "-- The C compiler identification is GNU 7.5.0\n",
            "-- The CXX compiler identification is GNU 7.5.0\n",
            "-- Detecting C compiler ABI info\n",
            "-- Detecting C compiler ABI info - done\n",
            "-- Check for working C compiler: /usr/bin/cc - skipped\n",
            "-- Detecting C compile features\n",
            "-- Detecting C compile features - done\n",
            "-- Detecting CXX compiler ABI info\n",
            "-- Detecting CXX compiler ABI info - done\n",
            "-- Check for working CXX compiler: /usr/bin/c++ - skipped\n",
            "-- Detecting CXX compile features\n",
            "-- Detecting CXX compile features - done\n",
            "-- ==============Linux Environment===============\n",
            "-- Build time = 2022-11-26 13:20.29\n",
            "-- Build type = Release\n",
            "-- Build version = 2.0\n",
            "-- LAST_COMMIT_ID = f588a73719378f532734143b72fcca383eed2eca\n",
            "\u001b[31mCMake Error at CMakeLists.txt:96 (include):\n",
            "  include could not find requested file:\n",
            "\n",
            "    /content/milvus/cmake_build/conan/conanbuildinfo.cmake\n",
            "\n",
            "\u001b[0m\n",
            "\u001b[31mCMake Error at CMakeLists.txt:98 (conan_basic_setup):\n",
            "  Unknown CMake command \"conan_basic_setup\".\n",
            "\n",
            "\u001b[0m\n",
            "-- Configuring incomplete, errors occurred!\n",
            "See also \"/content/milvus/cmake_build/CMakeFiles/CMakeOutput.log\".\n",
            "BASH=/bin/bash\n",
            "BASHOPTS=cmdhist:complete_fullquote:extquote:force_fignore:hostcomplete:interactive_comments:progcomp:promptvars:sourcepath\n",
            "BASH_ALIASES=()\n",
            "BASH_ARGC=([0]=\"6\")\n",
            "BASH_ARGV=([0]=\"OFF\" [1]=\"-n\" [2]=\"\" [3]=\"-f\" [4]=\"Release\" [5]=\"-t\")\n",
            "BASH_CMDS=()\n",
            "BASH_LINENO=([0]=\"0\")\n",
            "BASH_SOURCE=([0]=\"/content/milvus/scripts/core_build.sh\")\n",
            "BASH_VERSINFO=([0]=\"4\" [1]=\"4\" [2]=\"20\" [3]=\"1\" [4]=\"release\" [5]=\"x86_64-pc-linux-gnu\")\n",
            "BASH_VERSION='4.4.20(1)-release'\n",
            "BUILD_COVERAGE=OFF\n",
            "BUILD_DISK_ANN=OFF\n",
            "BUILD_OUTPUT_DIR=/content/milvus/cmake_build\n",
            "BUILD_TYPE=Release\n",
            "BUILD_UNITTEST=OFF\n",
            "CLICOLOR=1\n",
            "CLOUDSDK_CONFIG=/content/.config\n",
            "CLOUDSDK_PYTHON=python3\n",
            "CMAKE_CMD=$'cmake  -DBUILD_UNIT_TEST=OFF -DCMAKE_INSTALL_PREFIX=/content/milvus/internal/core/output\\n-DCMAKE_BUILD_TYPE=Release -DOpenBLAS_SOURCE=AUTO -DCMAKE_CUDA_COMPILER=/usr/local/cuda/bin/nvcc -DBUILD_COVERAGE=OFF -DMILVUS_DB_PATH=/tmp/milvus -DENABLE_CPU_PROFILING=OFF -DMILVUS_GPU_VERSION=OFF -DMILVUS_WITH_PROMETHEUS=ON -DMILVUS_CUDA_ARCH=DEFAULT -DCUSTOM_THIRDPARTY_DOWNLOAD_PATH= -DEMBEDDED_MILVUS=OFF -DBUILD_DISK_ANN=OFF /content/milvus/internal/core'\n",
            "CMAKE_GENERATOR='Unix Makefiles'\n",
            "CPP_SRC_DIR=/content/milvus/internal/core\n",
            "CUDA_ARCH=DEFAULT\n",
            "CUDA_COMPILER=/usr/local/cuda/bin/nvcc\n",
            "CUDA_VERSION=11.2.2\n",
            "CUSTOM_THIRDPARTY_PATH=\n",
            "DATALAB_SETTINGS_OVERRIDES='{\"kernelManagerProxyPort\":6000,\"kernelManagerProxyHost\":\"172.28.0.2\",\"jupyterArgs\":[\"--ip=172.28.0.2\"],\"debugAdapterMultiplexerPath\":\"/usr/local/bin/dap_multiplexer\",\"enableLsp\":true}'\n",
            "DB_PATH=/tmp/milvus\n",
            "DEBIAN_FRONTEND=noninteractive\n",
            "DIRSTACK=()\n",
            "EMBEDDED_MILVUS=OFF\n",
            "ENABLE_DIRECTORYPREFETCHER=1\n",
            "ENV=/root/.bashrc\n",
            "EUID=0\n",
            "GCE_METADATA_TIMEOUT=3\n",
            "GCS_READ_CACHE_BLOCK_SIZE_MB=16\n",
            "GIT_BRANCH=master\n",
            "GIT_PAGER=cat\n",
            "GLIBCPP_FORCE_NEW=1\n",
            "GLIBCXX_FORCE_NEW=1\n",
            "GPU_VERSION=OFF\n",
            "GROUPS=()\n",
            "HOME=/root\n",
            "HOSTNAME=1f840f87a6c9\n",
            "HOSTTYPE=x86_64\n",
            "IFS=$' \\t\\n'\n",
            "INSTALL_PREFIX=/content/milvus/internal/core/output\n",
            "JPY_PARENT_PID=59\n",
            "KMP_EXTRA_ARGS='--listen_host=172.28.0.2 --target_host=172.28.0.2 --tunnel_background_save_url=https://colab.research.google.com/tun/m/cc48301118ce562b961b3c22d803539adc1e0c19/m-s-25z3x05ngccqh --tunnel_background_save_delay=10s --tunnel_periodic_background_save_frequency=30m0s --enable_output_coalescing=true --output_coalescing_required=true'\n",
            "KMP_LISTEN_PORT=6000\n",
            "KMP_TARGET_PORT=9000\n",
            "LANG=en_US.UTF-8\n",
            "LAST_FORCED_REBUILD=20221107\n",
            "LD_LIBRARY_PATH=/usr/local/nvidia/lib:/usr/local/nvidia/lib64\n",
            "LD_PRELOAD=/usr/lib/x86_64-linux-gnu/libtcmalloc.so.4\n",
            "LIBRARY_PATH=/content/milvus/lib\n",
            "MACHTYPE=x86_64-pc-linux-gnu\n",
            "MAKEFLAGS=\n",
            "MAKELEVEL=1\n",
            "MAKE_CLEAN=OFF\n",
            "MAKE_TERMERR=/dev/pts/0\n",
            "MAKE_TERMOUT=/dev/pts/0\n",
            "MFLAGS=\n",
            "MPLBACKEND=module://ipykernel.pylab.backend_inline\n",
            "NCCL_VERSION=2.8.4-1\n",
            "NO_GCE_CHECK=False\n",
            "NVARCH=x86_64\n",
            "NVIDIA_DRIVER_CAPABILITIES=compute,utility\n",
            "NVIDIA_REQUIRE_CUDA='cuda>=11.2 brand=tesla,driver>=418,driver<419 brand=tesla,driver>=450,driver<451'\n",
            "NVIDIA_VISIBLE_DEVICES=all\n",
            "NV_CUDA_COMPAT_PACKAGE=cuda-compat-11-2\n",
            "NV_CUDA_CUDART_DEV_VERSION=11.2.152-1\n",
            "NV_CUDA_CUDART_VERSION=11.2.152-1\n",
            "NV_CUDA_LIB_VERSION=11.2.2-1\n",
            "NV_CUDNN_PACKAGE=libcudnn8=8.1.1.33-1+cuda11.2\n",
            "NV_CUDNN_PACKAGE_DEV=libcudnn8-dev=8.1.1.33-1+cuda11.2\n",
            "NV_CUDNN_PACKAGE_NAME=libcudnn8\n",
            "NV_CUDNN_VERSION=8.1.1.33\n",
            "NV_LIBCUBLAS_DEV_PACKAGE=libcublas-dev-11-2=11.4.1.1043-1\n",
            "NV_LIBCUBLAS_DEV_PACKAGE_NAME=libcublas-dev-11-2\n",
            "NV_LIBCUBLAS_DEV_VERSION=11.4.1.1043-1\n",
            "NV_LIBCUBLAS_PACKAGE=libcublas-11-2=11.4.1.1043-1\n",
            "NV_LIBCUBLAS_PACKAGE_NAME=libcublas-11-2\n",
            "NV_LIBCUBLAS_VERSION=11.4.1.1043-1\n",
            "NV_LIBCUSPARSE_DEV_VERSION=11.4.1.1152-1\n",
            "NV_LIBCUSPARSE_VERSION=11.4.1.1152-1\n",
            "NV_LIBNCCL_DEV_PACKAGE=libnccl-dev=2.8.4-1+cuda11.2\n",
            "NV_LIBNCCL_DEV_PACKAGE_NAME=libnccl-dev\n",
            "NV_LIBNCCL_DEV_PACKAGE_VERSION=2.8.4-1\n",
            "NV_LIBNCCL_PACKAGE=libnccl2=2.8.4-1+cuda11.2\n",
            "NV_LIBNCCL_PACKAGE_NAME=libnccl2\n",
            "NV_LIBNCCL_PACKAGE_VERSION=2.8.4-1\n",
            "NV_LIBNPP_DEV_PACKAGE=libnpp-dev-11-2=11.3.2.152-1\n",
            "NV_LIBNPP_DEV_VERSION=11.3.2.152-1\n",
            "NV_LIBNPP_PACKAGE=libnpp-11-2=11.3.2.152-1\n",
            "NV_LIBNPP_VERSION=11.3.2.152-1\n",
            "NV_NVML_DEV_VERSION=11.2.152-1\n",
            "NV_NVPROF_DEV_PACKAGE=cuda-nvprof-11-2=11.2.152-1\n",
            "NV_NVPROF_VERSION=11.2.152-1\n",
            "NV_NVTX_VERSION=11.2.152-1\n",
            "OLDPWD=/content/milvus\n",
            "OPTERR=1\n",
            "OPTIND=7\n",
            "OSTYPE=linux-gnu\n",
            "PAGER=cat\n",
            "PATH=/opt/bin:/usr/local/nvidia/bin:/usr/local/cuda/bin:/usr/local/sbin:/usr/local/bin:/usr/sbin:/usr/bin:/sbin:/bin:/tools/node/bin:/tools/google-cloud-sdk/bin\n",
            "PIPESTATUS=([0]=\"1\")\n",
            "PPID=366\n",
            "PROFILING=OFF\n",
            "PS4='+ '\n",
            "PWD=/content/milvus/cmake_build\n",
            "PYDEVD_USE_FRAME_EVAL=NO\n",
            "PYTHONPATH=/env/python\n",
            "PYTHONWARNINGS=ignore:::pip._internal.cli.base_command\n",
            "ROOT_DIR=/content/milvus\n",
            "RUN_CPPLINT=OFF\n",
            "SHELL=/bin/bash\n",
            "SHELLOPTS=braceexpand:hashall:interactive-comments\n",
            "SHLVL=3\n",
            "SOURCE=/content/milvus/scripts/core_build.sh\n",
            "TBE_CREDS_ADDR=172.28.0.1:8008\n",
            "TBE_EPHEM_CREDS_ADDR=172.28.0.1:8009\n",
            "TBE_RUNTIME_ADDR=172.28.0.1:8011\n",
            "TCLLIBPATH=/usr/share/tcltk/tcllib1.19\n",
            "TERM=xterm-color\n",
            "TF_FORCE_GPU_ALLOW_GROWTH=true\n",
            "UID=0\n",
            "USE_AUTH_EPHEM=1\n",
            "VM_GCE_METADATA_HOST=169.254.169.253\n",
            "WITH_PROMETHEUS=ON\n",
            "_='Unix Makefiles'\n",
            "arg='?'\n",
            "jobs=2\n",
            "unameOut=Linux\n",
            "make[1]: Entering directory '/content/milvus/cmake_build'\n",
            "make[1]: *** No rule to make target 'install'.  Stop.\n",
            "make[1]: Leaving directory '/content/milvus/cmake_build'\n",
            "Makefile:136: recipe for target 'build-cpp' failed\n",
            "make: *** [build-cpp] Error 1\n"
          ]
        }
      ],
      "source": [
        "%cd /content/milvus\n",
        "!ls\n",
        "!./scripts/install_deps.sh\n",
        "!make\n",
        "# %cd /content/milvus/core\n",
        "# ! echo $LD_LIBRARY_PATH\n",
        "# import os\n",
        "# os.environ['LD_LIBRARY_PATH'] += \":/content/milvus/core/milvus/lib\"\n",
        "# ! echo $LD_LIBRARY_PATH\n",
        "\n",
        "# %cd scripts\n",
        "# ! ls\n",
        "# ! nohup ./start_server.sh &\n",
        "# ! ls\n",
        "# ! cat nohup.out"
      ]
    },
    {
      "cell_type": "code",
      "execution_count": null,
      "metadata": {
        "colab": {
          "base_uri": "https://localhost:8080/"
        },
        "id": "XKGl0DXy0EZG",
        "outputId": "e4f658f5-e886-47f5-89b9-765638378547"
      },
      "outputs": [
        {
          "name": "stdout",
          "output_type": "stream",
          "text": [
            "/content/milvus/scripts\n",
            "check_proto_product.sh\t  install_deps.sh      run_go_unittest.sh\n",
            "collect_arrow_dep.sh\t  OWNERS\t       setenv.sh\n",
            "core_build.sh\t\t  package_windows.sh   sql\n",
            "devcontainer.sh\t\t  proto_gen_go.sh      start_cluster.sh\n",
            "docker_image_find_tag.sh  README.md\t       start_standalone.sh\n",
            "download_milvus_proto.sh  run_cpp_codecov.sh   stop.sh\n",
            "gofmt.sh\t\t  run_cpp_unittest.sh  update-api-version.sh\n",
            "install_deps_embd.sh\t  run_docker.sh\n",
            "install_deps_msys.sh\t  run_go_codecov.sh\n",
            "nohup: appending output to 'nohup.out'\n",
            "nohup: failed to run command './start_server.sh': No such file or directory\n",
            "check_proto_product.sh\t  install_deps.sh      run_go_codecov.sh\n",
            "collect_arrow_dep.sh\t  nohup.out\t       run_go_unittest.sh\n",
            "core_build.sh\t\t  OWNERS\t       setenv.sh\n",
            "devcontainer.sh\t\t  package_windows.sh   sql\n",
            "docker_image_find_tag.sh  proto_gen_go.sh      start_cluster.sh\n",
            "download_milvus_proto.sh  README.md\t       start_standalone.sh\n",
            "gofmt.sh\t\t  run_cpp_codecov.sh   stop.sh\n",
            "install_deps_embd.sh\t  run_cpp_unittest.sh  update-api-version.sh\n",
            "install_deps_msys.sh\t  run_docker.sh\n"
          ]
        }
      ],
      "source": [
        "%cd /content/milvus/scripts\n",
        "! ls\n",
        "! nohup ./start_server.sh &\n",
        "! ls\n",
        "! cat nohup.out"
      ]
    },
    {
      "cell_type": "code",
      "execution_count": null,
      "metadata": {
        "colab": {
          "base_uri": "https://localhost:8080/"
        },
        "id": "_1qWIWqLMVU1",
        "outputId": "0a71cf6c-1ff4-4235-b3f8-0e88e5bcb51f"
      },
      "outputs": [
        {
          "name": "stdout",
          "output_type": "stream",
          "text": [
            "Looking in indexes: https://pypi.org/simple, https://us-python.pkg.dev/colab-wheels/public/simple/\n",
            "Collecting gradio\n",
            "  Downloading gradio-3.11.0-py3-none-any.whl (11.6 MB)\n",
            "\u001b[K     |████████████████████████████████| 11.6 MB 5.3 MB/s \n",
            "\u001b[?25hRequirement already satisfied: requests in /usr/local/lib/python3.7/dist-packages (from gradio) (2.23.0)\n",
            "Requirement already satisfied: pydantic in /usr/local/lib/python3.7/dist-packages (from gradio) (1.10.2)\n",
            "Collecting uvicorn\n",
            "  Downloading uvicorn-0.20.0-py3-none-any.whl (56 kB)\n",
            "\u001b[K     |████████████████████████████████| 56 kB 3.9 MB/s \n",
            "\u001b[?25hCollecting websockets>=10.0\n",
            "  Downloading websockets-10.4-cp37-cp37m-manylinux_2_5_x86_64.manylinux1_x86_64.manylinux_2_17_x86_64.manylinux2014_x86_64.whl (106 kB)\n",
            "\u001b[K     |████████████████████████████████| 106 kB 64.9 MB/s \n",
            "\u001b[?25hCollecting python-multipart\n",
            "  Downloading python-multipart-0.0.5.tar.gz (32 kB)\n",
            "Requirement already satisfied: pillow in /usr/local/lib/python3.7/dist-packages (from gradio) (7.1.2)\n",
            "Collecting fastapi\n",
            "  Downloading fastapi-0.87.0-py3-none-any.whl (55 kB)\n",
            "\u001b[K     |████████████████████████████████| 55 kB 3.5 MB/s \n",
            "\u001b[?25hRequirement already satisfied: matplotlib in /usr/local/lib/python3.7/dist-packages (from gradio) (3.2.2)\n",
            "Collecting orjson\n",
            "  Downloading orjson-3.8.2-cp37-cp37m-manylinux_2_17_x86_64.manylinux2014_x86_64.whl (278 kB)\n",
            "\u001b[K     |████████████████████████████████| 278 kB 69.1 MB/s \n",
            "\u001b[?25hRequirement already satisfied: aiohttp in /usr/local/lib/python3.7/dist-packages (from gradio) (3.8.3)\n",
            "Collecting paramiko\n",
            "  Downloading paramiko-2.12.0-py2.py3-none-any.whl (213 kB)\n",
            "\u001b[K     |████████████████████████████████| 213 kB 72.1 MB/s \n",
            "\u001b[?25hRequirement already satisfied: fsspec in /usr/local/lib/python3.7/dist-packages (from gradio) (2022.11.0)\n",
            "Collecting ffmpy\n",
            "  Downloading ffmpy-0.3.0.tar.gz (4.8 kB)\n",
            "Collecting httpx\n",
            "  Downloading httpx-0.23.1-py3-none-any.whl (84 kB)\n",
            "\u001b[K     |████████████████████████████████| 84 kB 3.7 MB/s \n",
            "\u001b[?25hRequirement already satisfied: pyyaml in /usr/local/lib/python3.7/dist-packages (from gradio) (6.0)\n",
            "Collecting markdown-it-py[linkify,plugins]\n",
            "  Downloading markdown_it_py-2.1.0-py3-none-any.whl (84 kB)\n",
            "\u001b[K     |████████████████████████████████| 84 kB 3.1 MB/s \n",
            "\u001b[?25hRequirement already satisfied: numpy in /usr/local/lib/python3.7/dist-packages (from gradio) (1.21.6)\n",
            "Requirement already satisfied: pandas in /usr/local/lib/python3.7/dist-packages (from gradio) (1.3.5)\n",
            "Requirement already satisfied: jinja2 in /usr/local/lib/python3.7/dist-packages (from gradio) (2.11.3)\n",
            "Collecting h11<0.13,>=0.11\n",
            "  Downloading h11-0.12.0-py3-none-any.whl (54 kB)\n",
            "\u001b[K     |████████████████████████████████| 54 kB 2.9 MB/s \n",
            "\u001b[?25hCollecting pydub\n",
            "  Downloading pydub-0.25.1-py2.py3-none-any.whl (32 kB)\n",
            "Collecting pycryptodome\n",
            "  Downloading pycryptodome-3.15.0-cp35-abi3-manylinux2010_x86_64.whl (2.3 MB)\n",
            "\u001b[K     |████████████████████████████████| 2.3 MB 47.1 MB/s \n",
            "\u001b[?25hRequirement already satisfied: asynctest==0.13.0 in /usr/local/lib/python3.7/dist-packages (from aiohttp->gradio) (0.13.0)\n",
            "Requirement already satisfied: yarl<2.0,>=1.0 in /usr/local/lib/python3.7/dist-packages (from aiohttp->gradio) (1.8.1)\n",
            "Requirement already satisfied: multidict<7.0,>=4.5 in /usr/local/lib/python3.7/dist-packages (from aiohttp->gradio) (6.0.2)\n",
            "Requirement already satisfied: typing-extensions>=3.7.4 in /usr/local/lib/python3.7/dist-packages (from aiohttp->gradio) (4.1.1)\n",
            "Requirement already satisfied: aiosignal>=1.1.2 in /usr/local/lib/python3.7/dist-packages (from aiohttp->gradio) (1.3.1)\n",
            "Requirement already satisfied: charset-normalizer<3.0,>=2.0 in /usr/local/lib/python3.7/dist-packages (from aiohttp->gradio) (2.1.1)\n",
            "Requirement already satisfied: frozenlist>=1.1.1 in /usr/local/lib/python3.7/dist-packages (from aiohttp->gradio) (1.3.3)\n",
            "Requirement already satisfied: async-timeout<5.0,>=4.0.0a3 in /usr/local/lib/python3.7/dist-packages (from aiohttp->gradio) (4.0.2)\n",
            "Requirement already satisfied: attrs>=17.3.0 in /usr/local/lib/python3.7/dist-packages (from aiohttp->gradio) (22.1.0)\n",
            "Requirement already satisfied: idna>=2.0 in /usr/local/lib/python3.7/dist-packages (from yarl<2.0,>=1.0->aiohttp->gradio) (2.10)\n",
            "Collecting starlette==0.21.0\n",
            "  Downloading starlette-0.21.0-py3-none-any.whl (64 kB)\n",
            "\u001b[K     |████████████████████████████████| 64 kB 2.6 MB/s \n",
            "\u001b[?25hCollecting anyio<5,>=3.4.0\n",
            "  Downloading anyio-3.6.2-py3-none-any.whl (80 kB)\n",
            "\u001b[K     |████████████████████████████████| 80 kB 8.4 MB/s \n",
            "\u001b[?25hCollecting sniffio>=1.1\n",
            "  Downloading sniffio-1.3.0-py3-none-any.whl (10 kB)\n",
            "Requirement already satisfied: certifi in /usr/local/lib/python3.7/dist-packages (from httpx->gradio) (2022.9.24)\n",
            "Collecting rfc3986[idna2008]<2,>=1.3\n",
            "  Downloading rfc3986-1.5.0-py2.py3-none-any.whl (31 kB)\n",
            "Collecting httpcore<0.17.0,>=0.15.0\n",
            "  Downloading httpcore-0.16.2-py3-none-any.whl (68 kB)\n",
            "\u001b[K     |████████████████████████████████| 68 kB 6.5 MB/s \n",
            "\u001b[?25h  Downloading httpcore-0.16.1-py3-none-any.whl (68 kB)\n",
            "\u001b[K     |████████████████████████████████| 68 kB 5.8 MB/s \n",
            "\u001b[?25h  Downloading httpcore-0.16.0-py3-none-any.whl (68 kB)\n",
            "\u001b[K     |████████████████████████████████| 68 kB 6.7 MB/s \n",
            "\u001b[?25h  Downloading httpcore-0.15.0-py3-none-any.whl (68 kB)\n",
            "\u001b[K     |████████████████████████████████| 68 kB 5.7 MB/s \n",
            "\u001b[?25hRequirement already satisfied: MarkupSafe>=0.23 in /usr/local/lib/python3.7/dist-packages (from jinja2->gradio) (2.0.1)\n",
            "Collecting mdurl~=0.1\n",
            "  Downloading mdurl-0.1.2-py3-none-any.whl (10.0 kB)\n",
            "Collecting linkify-it-py~=1.0\n",
            "  Downloading linkify_it_py-1.0.3-py3-none-any.whl (19 kB)\n",
            "Collecting mdit-py-plugins\n",
            "  Downloading mdit_py_plugins-0.3.1-py3-none-any.whl (46 kB)\n",
            "\u001b[K     |████████████████████████████████| 46 kB 3.7 MB/s \n",
            "\u001b[?25hCollecting uc-micro-py\n",
            "  Downloading uc_micro_py-1.0.1-py3-none-any.whl (6.2 kB)\n",
            "Requirement already satisfied: kiwisolver>=1.0.1 in /usr/local/lib/python3.7/dist-packages (from matplotlib->gradio) (1.4.4)\n",
            "Requirement already satisfied: pyparsing!=2.0.4,!=2.1.2,!=2.1.6,>=2.0.1 in /usr/local/lib/python3.7/dist-packages (from matplotlib->gradio) (3.0.9)\n",
            "Requirement already satisfied: cycler>=0.10 in /usr/local/lib/python3.7/dist-packages (from matplotlib->gradio) (0.11.0)\n",
            "Requirement already satisfied: python-dateutil>=2.1 in /usr/local/lib/python3.7/dist-packages (from matplotlib->gradio) (2.8.2)\n",
            "Requirement already satisfied: six>=1.5 in /usr/local/lib/python3.7/dist-packages (from python-dateutil>=2.1->matplotlib->gradio) (1.15.0)\n",
            "Requirement already satisfied: pytz>=2017.3 in /usr/local/lib/python3.7/dist-packages (from pandas->gradio) (2022.6)\n",
            "Collecting pynacl>=1.0.1\n",
            "  Downloading PyNaCl-1.5.0-cp36-abi3-manylinux_2_17_x86_64.manylinux2014_x86_64.manylinux_2_24_x86_64.whl (856 kB)\n",
            "\u001b[K     |████████████████████████████████| 856 kB 50.7 MB/s \n",
            "\u001b[?25hCollecting cryptography>=2.5\n",
            "  Downloading cryptography-38.0.3-cp36-abi3-manylinux_2_24_x86_64.whl (4.1 MB)\n",
            "\u001b[K     |████████████████████████████████| 4.1 MB 37.1 MB/s \n",
            "\u001b[?25hCollecting bcrypt>=3.1.3\n",
            "  Downloading bcrypt-4.0.1-cp36-abi3-manylinux_2_24_x86_64.whl (593 kB)\n",
            "\u001b[K     |████████████████████████████████| 593 kB 67.4 MB/s \n",
            "\u001b[?25hRequirement already satisfied: cffi>=1.12 in /usr/local/lib/python3.7/dist-packages (from cryptography>=2.5->paramiko->gradio) (1.15.1)\n",
            "Requirement already satisfied: pycparser in /usr/local/lib/python3.7/dist-packages (from cffi>=1.12->cryptography>=2.5->paramiko->gradio) (2.21)\n",
            "Requirement already satisfied: chardet<4,>=3.0.2 in /usr/local/lib/python3.7/dist-packages (from requests->gradio) (3.0.4)\n",
            "Requirement already satisfied: urllib3!=1.25.0,!=1.25.1,<1.26,>=1.21.1 in /usr/local/lib/python3.7/dist-packages (from requests->gradio) (1.24.3)\n",
            "Requirement already satisfied: click>=7.0 in /usr/local/lib/python3.7/dist-packages (from uvicorn->gradio) (7.1.2)\n",
            "Building wheels for collected packages: ffmpy, python-multipart\n",
            "  Building wheel for ffmpy (setup.py) ... \u001b[?25l\u001b[?25hdone\n",
            "  Created wheel for ffmpy: filename=ffmpy-0.3.0-py3-none-any.whl size=4711 sha256=d215a6b45413b49e96371ff00aa636925e4a9d08e46a036bb603ddfd57b45916\n",
            "  Stored in directory: /root/.cache/pip/wheels/13/e4/6c/e8059816e86796a597c6e6b0d4c880630f51a1fcfa0befd5e6\n",
            "  Building wheel for python-multipart (setup.py) ... \u001b[?25l\u001b[?25hdone\n",
            "  Created wheel for python-multipart: filename=python_multipart-0.0.5-py3-none-any.whl size=31678 sha256=2eabfad6783e39cb31ae62ba0aa13640cb93e293cca1da185555e3089954a5f2\n",
            "  Stored in directory: /root/.cache/pip/wheels/2c/41/7c/bfd1c180534ffdcc0972f78c5758f89881602175d48a8bcd2c\n",
            "Successfully built ffmpy python-multipart\n",
            "Installing collected packages: sniffio, mdurl, uc-micro-py, rfc3986, markdown-it-py, h11, anyio, starlette, pynacl, mdit-py-plugins, linkify-it-py, httpcore, cryptography, bcrypt, websockets, uvicorn, python-multipart, pydub, pycryptodome, paramiko, orjson, httpx, ffmpy, fastapi, gradio\n",
            "Successfully installed anyio-3.6.2 bcrypt-4.0.1 cryptography-38.0.3 fastapi-0.87.0 ffmpy-0.3.0 gradio-3.11.0 h11-0.12.0 httpcore-0.15.0 httpx-0.23.1 linkify-it-py-1.0.3 markdown-it-py-2.1.0 mdit-py-plugins-0.3.1 mdurl-0.1.2 orjson-3.8.2 paramiko-2.12.0 pycryptodome-3.15.0 pydub-0.25.1 pynacl-1.5.0 python-multipart-0.0.5 rfc3986-1.5.0 sniffio-1.3.0 starlette-0.21.0 uc-micro-py-1.0.1 uvicorn-0.20.0 websockets-10.4\n"
          ]
        }
      ],
      "source": [
        "!pip install gradio"
      ]
    },
    {
      "cell_type": "code",
      "execution_count": null,
      "metadata": {
        "id": "miwNQaBFcxyH"
      },
      "outputs": [],
      "source": [
        "import cv2\n",
        "from google.colab.patches import cv2_imshow\n",
        "from towhee._types.image import Image\n",
        "from towhee import pipeline\n",
        "import towhee\n",
        "from google.colab import drive\n",
        "import os\n",
        "import numpy as np\n",
        "from numpy.linalg import norm\n",
        "# import gradio as gr\n",
        "from PIL import Image\n",
        "import pickle"
      ]
    },
    {
      "cell_type": "code",
      "execution_count": null,
      "metadata": {
        "id": "tBeoUgSxfcWS"
      },
      "outputs": [],
      "source": [
        "imgs = []"
      ]
    },
    {
      "cell_type": "code",
      "execution_count": null,
      "metadata": {
        "id": "tQUGVpbNfuI9"
      },
      "outputs": [],
      "source": [
        "def read_images():\n",
        "  imgs = []\n",
        "  # drive.mount('/content/drive')  # 連結到自己的Google Drive\n",
        "  # os.chdir('/content/drive/My Drive/') # 後面加上自己的Google Drive內的路徑\n",
        "  # allFile = os.walk('/content/drive/My Drive/') # 路徑與上一行相同\n",
        "  os.chdir('/dataset')\n",
        "  allFile = os.walk('/dataset')\n",
        "  for root,dirs,files in allFile:\n",
        "    for f in files:\n",
        "      imgs.append(Image(cv2.imread(os.path.join(root,f)),'BGR'))\n",
        "  print(imgs)\n",
        "  return imgs"
      ]
    },
    {
      "cell_type": "code",
      "execution_count": null,
      "metadata": {
        "colab": {
          "base_uri": "https://localhost:8080/",
          "height": 343
        },
        "id": "uoFRNKglgYIn",
        "outputId": "28fa8ae7-af1b-4c5e-d953-01d4e965d402"
      },
      "outputs": [
        {
          "name": "stdout",
          "output_type": "stream",
          "text": [
            "Drive already mounted at /content/drive; to attempt to forcibly remount, call drive.mount(\"/content/drive\", force_remount=True).\n"
          ]
        },
        {
          "ename": "TypeError",
          "evalue": "ignored",
          "output_type": "error",
          "traceback": [
            "\u001b[0;31m---------------------------------------------------------------------------\u001b[0m",
            "\u001b[0;31mTypeError\u001b[0m                                 Traceback (most recent call last)",
            "\u001b[0;32m<ipython-input-13-18459cf122e6>\u001b[0m in \u001b[0;36m<module>\u001b[0;34m\u001b[0m\n\u001b[0;32m----> 1\u001b[0;31m \u001b[0mimgs\u001b[0m \u001b[0;34m=\u001b[0m \u001b[0mread_images\u001b[0m\u001b[0;34m(\u001b[0m\u001b[0;34m)\u001b[0m\u001b[0;34m\u001b[0m\u001b[0;34m\u001b[0m\u001b[0m\n\u001b[0m\u001b[1;32m      2\u001b[0m \u001b[0mprint\u001b[0m\u001b[0;34m(\u001b[0m\u001b[0mlen\u001b[0m\u001b[0;34m(\u001b[0m\u001b[0mimgs\u001b[0m\u001b[0;34m)\u001b[0m\u001b[0;34m)\u001b[0m\u001b[0;34m\u001b[0m\u001b[0;34m\u001b[0m\u001b[0m\n",
            "\u001b[0;32m<ipython-input-7-b5b63df43b32>\u001b[0m in \u001b[0;36mread_images\u001b[0;34m()\u001b[0m\n\u001b[1;32m      6\u001b[0m   \u001b[0;32mfor\u001b[0m \u001b[0mroot\u001b[0m\u001b[0;34m,\u001b[0m\u001b[0mdirs\u001b[0m\u001b[0;34m,\u001b[0m\u001b[0mfiles\u001b[0m \u001b[0;32min\u001b[0m \u001b[0mallFile\u001b[0m\u001b[0;34m:\u001b[0m\u001b[0;34m\u001b[0m\u001b[0;34m\u001b[0m\u001b[0m\n\u001b[1;32m      7\u001b[0m     \u001b[0;32mfor\u001b[0m \u001b[0mf\u001b[0m \u001b[0;32min\u001b[0m \u001b[0mfiles\u001b[0m\u001b[0;34m:\u001b[0m\u001b[0;34m\u001b[0m\u001b[0;34m\u001b[0m\u001b[0m\n\u001b[0;32m----> 8\u001b[0;31m       \u001b[0mimgs\u001b[0m\u001b[0;34m.\u001b[0m\u001b[0mappend\u001b[0m\u001b[0;34m(\u001b[0m\u001b[0mImage\u001b[0m\u001b[0;34m(\u001b[0m\u001b[0mcv2\u001b[0m\u001b[0;34m.\u001b[0m\u001b[0mimread\u001b[0m\u001b[0;34m(\u001b[0m\u001b[0mos\u001b[0m\u001b[0;34m.\u001b[0m\u001b[0mpath\u001b[0m\u001b[0;34m.\u001b[0m\u001b[0mjoin\u001b[0m\u001b[0;34m(\u001b[0m\u001b[0mroot\u001b[0m\u001b[0;34m,\u001b[0m\u001b[0mf\u001b[0m\u001b[0;34m)\u001b[0m\u001b[0;34m)\u001b[0m\u001b[0;34m,\u001b[0m\u001b[0;34m'BGR'\u001b[0m\u001b[0;34m)\u001b[0m\u001b[0;34m)\u001b[0m\u001b[0;34m\u001b[0m\u001b[0;34m\u001b[0m\u001b[0m\n\u001b[0m\u001b[1;32m      9\u001b[0m   \u001b[0mprint\u001b[0m\u001b[0;34m(\u001b[0m\u001b[0mimgs\u001b[0m\u001b[0;34m)\u001b[0m\u001b[0;34m\u001b[0m\u001b[0;34m\u001b[0m\u001b[0m\n\u001b[1;32m     10\u001b[0m   \u001b[0;32mreturn\u001b[0m \u001b[0mimgs\u001b[0m\u001b[0;34m\u001b[0m\u001b[0;34m\u001b[0m\u001b[0m\n",
            "\u001b[0;31mTypeError\u001b[0m: 'module' object is not callable"
          ]
        }
      ],
      "source": [
        "imgs = read_images()\n",
        "print(len(imgs))"
      ]
    },
    {
      "cell_type": "code",
      "execution_count": null,
      "metadata": {
        "id": "oYELzEic-K-d"
      },
      "outputs": [],
      "source": [
        "from pymilvus.client.stub import Milvus\n",
        "\n",
        "def creat_collection(name,dim):\n",
        "  connections.connect(host='0.0.0.0', port='8000')\n",
        "  if utility.has_collection(name):\n",
        "    utility.drop_collection(name)\n",
        "  fields = [FieldSchema(name='id',dtype=DataType.INT64, description='ids', is_primary=True, auto_id=False),\n",
        "        FieldSchema(name='embedding',dtype=DataType.FLOAT_VECTOR, descrition='embedding vectors', dim=dim),\n",
        "        FieldSchema(name='label',dtype=DataType.VARCHAR, descrition='label')]\n",
        "  schema = CollectionSchema(fields=fields,description='image search')\n",
        "  collection = Collection(name=name,schema=schema)\n",
        "  index_params = {'metric_type':'L2','index_type':\"IVF_FLAT\", 'params':{\"nlist\":2048}}\n",
        "  collection.create_index(field_name=\"emvedding\",index_params=index_params)\n",
        "  return collection"
      ]
    },
    {
      "cell_type": "code",
      "execution_count": null,
      "metadata": {
        "colab": {
          "base_uri": "https://localhost:8080/"
        },
        "id": "NeIL4QV7NOQf",
        "outputId": "85fb20e8-966e-4f2b-e34a-76ae878b9e41"
      },
      "outputs": [
        {
          "name": "stdout",
          "output_type": "stream",
          "text": [
            "[Errno 2] No such file or directory: 'scripts'\n",
            "/content\n",
            "nohup.out  仙丹花  南美蟛蜞菊  楓樹  牽牛花  雛菊\n",
            "nohup: appending output to 'nohup.out'\n",
            "nohup: failed to run command './start_server.sh': No such file or directory\n",
            "nohup.out  仙丹花  南美蟛蜞菊  楓樹  牽牛花  雛菊\n"
          ]
        }
      ],
      "source": [
        "%cd scripts\n",
        "! ls\n",
        "! nohup ./start_server.sh &\n",
        "! ls\n",
        "! cat nohup.out"
      ]
    },
    {
      "cell_type": "code",
      "execution_count": null,
      "metadata": {
        "colab": {
          "base_uri": "https://localhost:8080/",
          "height": 295
        },
        "id": "Wgz-dDaUL8lc",
        "outputId": "6a9f0356-cf7c-4492-86af-029455bf3031"
      },
      "outputs": [
        {
          "ename": "MilvusException",
          "evalue": "ignored",
          "output_type": "error",
          "traceback": [
            "\u001b[0;31m---------------------------------------------------------------------------\u001b[0m",
            "\u001b[0;31mFutureTimeoutError\u001b[0m                        Traceback (most recent call last)",
            "\u001b[0;32m/usr/local/lib/python3.7/dist-packages/pymilvus/client/grpc_handler.py\u001b[0m in \u001b[0;36m_wait_for_channel_ready\u001b[0;34m(self)\u001b[0m\n",
            "\u001b[0;32m/usr/local/lib/python3.7/dist-packages/grpc/_utilities.py\u001b[0m in \u001b[0;36mresult\u001b[0;34m(self, timeout)\u001b[0m\n\u001b[1;32m    138\u001b[0m     \u001b[0;32mdef\u001b[0m \u001b[0mresult\u001b[0m\u001b[0;34m(\u001b[0m\u001b[0mself\u001b[0m\u001b[0;34m,\u001b[0m \u001b[0mtimeout\u001b[0m\u001b[0;34m=\u001b[0m\u001b[0;32mNone\u001b[0m\u001b[0;34m)\u001b[0m\u001b[0;34m:\u001b[0m\u001b[0;34m\u001b[0m\u001b[0;34m\u001b[0m\u001b[0m\n\u001b[0;32m--> 139\u001b[0;31m         \u001b[0mself\u001b[0m\u001b[0;34m.\u001b[0m\u001b[0m_block\u001b[0m\u001b[0;34m(\u001b[0m\u001b[0mtimeout\u001b[0m\u001b[0;34m)\u001b[0m\u001b[0;34m\u001b[0m\u001b[0;34m\u001b[0m\u001b[0m\n\u001b[0m\u001b[1;32m    140\u001b[0m \u001b[0;34m\u001b[0m\u001b[0m\n",
            "\u001b[0;32m/usr/local/lib/python3.7/dist-packages/grpc/_utilities.py\u001b[0m in \u001b[0;36m_block\u001b[0;34m(self, timeout)\u001b[0m\n\u001b[1;32m     84\u001b[0m                         \u001b[0;32mif\u001b[0m \u001b[0mremaining\u001b[0m \u001b[0;34m<\u001b[0m \u001b[0;36m0\u001b[0m\u001b[0;34m:\u001b[0m\u001b[0;34m\u001b[0m\u001b[0;34m\u001b[0m\u001b[0m\n\u001b[0;32m---> 85\u001b[0;31m                             \u001b[0;32mraise\u001b[0m \u001b[0mgrpc\u001b[0m\u001b[0;34m.\u001b[0m\u001b[0mFutureTimeoutError\u001b[0m\u001b[0;34m(\u001b[0m\u001b[0;34m)\u001b[0m\u001b[0;34m\u001b[0m\u001b[0;34m\u001b[0m\u001b[0m\n\u001b[0m\u001b[1;32m     86\u001b[0m                         \u001b[0;32melse\u001b[0m\u001b[0;34m:\u001b[0m\u001b[0;34m\u001b[0m\u001b[0;34m\u001b[0m\u001b[0m\n",
            "\u001b[0;31mFutureTimeoutError\u001b[0m: ",
            "\nDuring handling of the above exception, another exception occurred:\n",
            "\u001b[0;31mMilvusException\u001b[0m                           Traceback (most recent call last)",
            "\u001b[0;32m<ipython-input-16-6eccb1811bca>\u001b[0m in \u001b[0;36m<module>\u001b[0;34m\u001b[0m\n\u001b[0;32m----> 1\u001b[0;31m \u001b[0mcollection\u001b[0m \u001b[0;34m=\u001b[0m \u001b[0mcreat_collection\u001b[0m\u001b[0;34m(\u001b[0m\u001b[0;34m'image search'\u001b[0m\u001b[0;34m,\u001b[0m\u001b[0;36m2048\u001b[0m\u001b[0;34m)\u001b[0m\u001b[0;34m\u001b[0m\u001b[0;34m\u001b[0m\u001b[0m\n\u001b[0m",
            "\u001b[0;32m<ipython-input-15-74c81045e570>\u001b[0m in \u001b[0;36mcreat_collection\u001b[0;34m(name, dim)\u001b[0m\n\u001b[1;32m      2\u001b[0m \u001b[0;34m\u001b[0m\u001b[0m\n\u001b[1;32m      3\u001b[0m \u001b[0;32mdef\u001b[0m \u001b[0mcreat_collection\u001b[0m\u001b[0;34m(\u001b[0m\u001b[0mname\u001b[0m\u001b[0;34m,\u001b[0m\u001b[0mdim\u001b[0m\u001b[0;34m)\u001b[0m\u001b[0;34m:\u001b[0m\u001b[0;34m\u001b[0m\u001b[0;34m\u001b[0m\u001b[0m\n\u001b[0;32m----> 4\u001b[0;31m   \u001b[0mconnections\u001b[0m\u001b[0;34m.\u001b[0m\u001b[0mconnect\u001b[0m\u001b[0;34m(\u001b[0m\u001b[0mhost\u001b[0m\u001b[0;34m=\u001b[0m\u001b[0;34m'0.0.0.0'\u001b[0m\u001b[0;34m,\u001b[0m \u001b[0mport\u001b[0m\u001b[0;34m=\u001b[0m\u001b[0;34m'8000'\u001b[0m\u001b[0;34m)\u001b[0m\u001b[0;34m\u001b[0m\u001b[0;34m\u001b[0m\u001b[0m\n\u001b[0m\u001b[1;32m      5\u001b[0m   \u001b[0;32mif\u001b[0m \u001b[0mutility\u001b[0m\u001b[0;34m.\u001b[0m\u001b[0mhas_collection\u001b[0m\u001b[0;34m(\u001b[0m\u001b[0mname\u001b[0m\u001b[0;34m)\u001b[0m\u001b[0;34m:\u001b[0m\u001b[0;34m\u001b[0m\u001b[0;34m\u001b[0m\u001b[0m\n\u001b[1;32m      6\u001b[0m     \u001b[0mutility\u001b[0m\u001b[0;34m.\u001b[0m\u001b[0mdrop_collection\u001b[0m\u001b[0;34m(\u001b[0m\u001b[0mname\u001b[0m\u001b[0;34m)\u001b[0m\u001b[0;34m\u001b[0m\u001b[0;34m\u001b[0m\u001b[0m\n",
            "\u001b[0;32m/usr/local/lib/python3.7/dist-packages/pymilvus/orm/connections.py\u001b[0m in \u001b[0;36mconnect\u001b[0;34m(self, alias, user, password, **kwargs)\u001b[0m\n",
            "\u001b[0;32m/usr/local/lib/python3.7/dist-packages/pymilvus/orm/connections.py\u001b[0m in \u001b[0;36mconnect_milvus\u001b[0;34m(**kwargs)\u001b[0m\n",
            "\u001b[0;32m/usr/local/lib/python3.7/dist-packages/pymilvus/client/grpc_handler.py\u001b[0m in \u001b[0;36m_wait_for_channel_ready\u001b[0;34m(self)\u001b[0m\n",
            "\u001b[0;31mMilvusException\u001b[0m: <MilvusException: (code=2, message=Fail connecting to server on 0.0.0.0:8000. Timeout)>"
          ]
        }
      ],
      "source": [
        "collection = creat_collection('image search',2048)"
      ]
    },
    {
      "cell_type": "code",
      "execution_count": null,
      "metadata": {
        "id": "dxyhbtZ8q05V"
      },
      "outputs": [],
      "source": [
        "# drive.mount('/content/drive')  # 連結到自己的Google Drive\n",
        "# os.chdir('/content/drive/My Drive/') # 後面加上自己的Google Drive內的路徑\n",
        "# allFile = os.walk('/content/drive/My Drive/') # 路徑與上一行相同\n",
        "os.chdir('/dataset')\n",
        "allFile = os.walk('/dataset')\n",
        "with open('image.csv','w') as f:\n",
        "  writer = csv.writer(f)\n",
        "  writer.writerow(['id','path','label'])\n",
        "  label_name = ['雛菊','楓樹','牽牛花','南美蟛蜞菊','仙丹花']\n",
        "  i = 0\n",
        "  for root,dirs,files in allFile:\n",
        "    for f in files:\n",
        "      writer.writerow([i,os.path.join(root,f),label_name[int(i/20)]])\n",
        "      i += 1\n",
        "df = pd.read_csv('image.csv')\n",
        "df.head()"
      ]
    },
    {
      "cell_type": "code",
      "execution_count": null,
      "metadata": {
        "colab": {
          "base_uri": "https://localhost:8080/"
        },
        "id": "-xCy7LkDl9Mv",
        "outputId": "acc75381-a0b2-44f2-e6ab-35fab077f3a1"
      },
      "outputs": [
        {
          "name": "stdout",
          "output_type": "stream",
          "text": [
            "Drive already mounted at /content/drive; to attempt to forcibly remount, call drive.mount(\"/content/drive\", force_remount=True).\n",
            "Cloning the repo: image-embedding/timm... Be patient and waiting printing 'Successfully'.\n",
            "Successfully clone the repo: image-embedding/timm.\n"
          ]
        },
        {
          "name": "stderr",
          "output_type": "stream",
          "text": [
            "Downloading: \"https://github.com/rwightman/pytorch-image-models/releases/download/v0.1-rsb-weights/resnet50_a1_0-14fe96d1.pth\" to /root/.cache/torch/hub/checkpoints/resnet50_a1_0-14fe96d1.pth\n"
          ]
        }
      ],
      "source": [
        "# drive.mount('/content/drive')  # 連結到自己的Google Drive\n",
        "# os.chdir('/content/drive/My Drive/') # 後面加上自己的Google Drive內的路徑\n",
        "# allFile = os.walk('/content/drive/My Drive/') # 路徑與上一行相同\n",
        "os.chdir('/dataset')\n",
        "allFile = os.walk('/dataset')\n",
        "label_name = ['雛菊','楓樹','牽牛花','南美蟛蜞菊','仙丹花']\n",
        "i = 0\n",
        "data = []\n",
        "for root,dirs,files in allFile:\n",
        "    for f in files:\n",
        "      vector = towhee.glob['path'](os.path.join(root,f)).image_decode['path', 'img']().image_embedding.timm['img', 'vec'](model_name='resnet50').select['vec']()\n",
        "      data.append([i,vector,label_name[int(i/20)]])\n",
        "      i += 1"
      ]
    },
    {
      "cell_type": "code",
      "execution_count": null,
      "metadata": {
        "colab": {
          "base_uri": "https://localhost:8080/",
          "height": 318
        },
        "id": "OVAi5KwCp6Vy",
        "outputId": "df0f0b09-597d-4085-b36f-8c702eb93f8a"
      },
      "outputs": [
        {
          "ename": "TypeError",
          "evalue": "ignored",
          "output_type": "error",
          "traceback": [
            "\u001b[0;31m---------------------------------------------------------------------------\u001b[0m",
            "\u001b[0;31mTypeError\u001b[0m                                 Traceback (most recent call last)",
            "\u001b[0;32m<ipython-input-14-3991d0b561ab>\u001b[0m in \u001b[0;36m<module>\u001b[0;34m\u001b[0m\n\u001b[1;32m      1\u001b[0m \u001b[0;32mfor\u001b[0m \u001b[0mi\u001b[0m \u001b[0;32min\u001b[0m \u001b[0mdata\u001b[0m\u001b[0;34m:\u001b[0m\u001b[0;34m\u001b[0m\u001b[0;34m\u001b[0m\u001b[0m\n\u001b[0;32m----> 2\u001b[0;31m   \u001b[0mprint\u001b[0m\u001b[0;34m(\u001b[0m\u001b[0mi\u001b[0m\u001b[0;34m[\u001b[0m\u001b[0;36m1\u001b[0m\u001b[0;34m]\u001b[0m\u001b[0;34m[\u001b[0m\u001b[0;34m'vec'\u001b[0m\u001b[0;34m]\u001b[0m\u001b[0;34m)\u001b[0m\u001b[0;34m\u001b[0m\u001b[0;34m\u001b[0m\u001b[0m\n\u001b[0m",
            "\u001b[0;32m/usr/local/lib/python3.7/dist-packages/towhee/functional/data_collection.py\u001b[0m in \u001b[0;36m__getitem__\u001b[0;34m(self, index)\u001b[0m\n\u001b[1;32m    180\u001b[0m         \u001b[0;32mif\u001b[0m \u001b[0misinstance\u001b[0m\u001b[0;34m(\u001b[0m\u001b[0mindex\u001b[0m\u001b[0;34m,\u001b[0m \u001b[0mint\u001b[0m\u001b[0;34m)\u001b[0m\u001b[0;34m:\u001b[0m\u001b[0;34m\u001b[0m\u001b[0;34m\u001b[0m\u001b[0m\n\u001b[1;32m    181\u001b[0m             \u001b[0;32mreturn\u001b[0m \u001b[0mself\u001b[0m\u001b[0;34m.\u001b[0m\u001b[0m_iterable\u001b[0m\u001b[0;34m[\u001b[0m\u001b[0mindex\u001b[0m\u001b[0;34m]\u001b[0m\u001b[0;34m\u001b[0m\u001b[0;34m\u001b[0m\u001b[0m\n\u001b[0;32m--> 182\u001b[0;31m         \u001b[0;32mreturn\u001b[0m \u001b[0mDataCollection\u001b[0m\u001b[0;34m(\u001b[0m\u001b[0mself\u001b[0m\u001b[0;34m.\u001b[0m\u001b[0m_iterable\u001b[0m\u001b[0;34m[\u001b[0m\u001b[0mindex\u001b[0m\u001b[0;34m]\u001b[0m\u001b[0;34m)\u001b[0m\u001b[0;34m\u001b[0m\u001b[0;34m\u001b[0m\u001b[0m\n\u001b[0m\u001b[1;32m    183\u001b[0m \u001b[0;34m\u001b[0m\u001b[0m\n\u001b[1;32m    184\u001b[0m     \u001b[0;32mdef\u001b[0m \u001b[0m__setitem__\u001b[0m\u001b[0;34m(\u001b[0m\u001b[0mself\u001b[0m\u001b[0;34m,\u001b[0m \u001b[0mindex\u001b[0m\u001b[0;34m,\u001b[0m \u001b[0mvalue\u001b[0m\u001b[0;34m)\u001b[0m\u001b[0;34m:\u001b[0m\u001b[0;34m\u001b[0m\u001b[0;34m\u001b[0m\u001b[0m\n",
            "\u001b[0;31mTypeError\u001b[0m: list indices must be integers or slices, not str"
          ]
        }
      ],
      "source": [
        "for i in data:\n",
        "  print(i[1]['vec'])"
      ]
    },
    {
      "cell_type": "code",
      "execution_count": null,
      "metadata": {
        "colab": {
          "base_uri": "https://localhost:8080/"
        },
        "id": "Ma9NRaoCy8rf",
        "outputId": "7f0f2821-a994-4243-9397-b2f9214bbb02"
      },
      "outputs": [
        {
          "name": "stdout",
          "output_type": "stream",
          "text": [
            "Drive already mounted at /content/drive; to attempt to forcibly remount, call drive.mount(\"/content/drive\", force_remount=True).\n",
            "2048\n",
            "[0.        0.        0.        ... 0.        0.1433667 0.       ]\n",
            "2048\n",
            "[0.         0.00178176 0.         ... 0.         0.17348358 0.        ]\n",
            "2048\n",
            "[0.         0.         0.         ... 0.         0.13981318 0.        ]\n",
            "2048\n",
            "[0.00512464 0.00648671 0.         ... 0.00472472 0.13227528 0.        ]\n",
            "2048\n",
            "[0.         0.         0.         ... 0.         0.15917842 0.        ]\n",
            "2048\n",
            "[0.         0.         0.         ... 0.         0.05983276 0.        ]\n",
            "2048\n",
            "[0.00948798 0.         0.         ... 0.         0.21793818 0.        ]\n",
            "2048\n",
            "[0.00050461 0.00034108 0.         ... 0.         0.13908887 0.        ]\n",
            "2048\n",
            "[0.         0.         0.         ... 0.         0.14801876 0.        ]\n",
            "2048\n",
            "[0.         0.         0.         ... 0.         0.06730244 0.        ]\n",
            "2048\n",
            "[0.         0.0351281  0.         ... 0.         0.06896368 0.        ]\n",
            "2048\n",
            "[0.         0.         0.         ... 0.         0.05744181 0.        ]\n",
            "2048\n",
            "[0.        0.        0.        ... 0.        0.1658031 0.       ]\n",
            "2048\n",
            "[0.         0.00033941 0.         ... 0.         0.11051355 0.        ]\n",
            "2048\n",
            "[0.         0.         0.         ... 0.         0.09842148 0.        ]\n",
            "2048\n",
            "[0.         0.         0.         ... 0.         0.16758245 0.        ]\n",
            "2048\n",
            "[0.         0.         0.00063259 ... 0.         0.13000709 0.        ]\n",
            "2048\n",
            "[0.         0.00552715 0.         ... 0.         0.1944041  0.        ]\n",
            "2048\n",
            "[0.         0.         0.         ... 0.         0.13943744 0.        ]\n",
            "2048\n",
            "[0.        0.        0.        ... 0.        0.1153107 0.       ]\n",
            "2048\n",
            "[0.00059139 0.         0.         ... 0.         0.02110432 0.        ]\n",
            "2048\n",
            "[0.03636619 0.00411485 0.         ... 0.         0.03754466 0.        ]\n",
            "2048\n",
            "[0.06874534 0.01785598 0.         ... 0.         0.06645732 0.        ]\n",
            "2048\n",
            "[0.         0.0046531  0.         ... 0.         0.11951698 0.        ]\n",
            "2048\n",
            "[0.05070096 0.         0.         ... 0.0030858  0.02538443 0.00806391]\n",
            "2048\n",
            "[0.02463281 0.         0.         ... 0.         0.02056571 0.        ]\n",
            "2048\n",
            "[0.         0.01996462 0.         ... 0.01234483 0.05091594 0.0689011 ]\n",
            "2048\n",
            "[0.12091727 0.03983827 0.         ... 0.         0.12410386 0.        ]\n",
            "2048\n",
            "[1.58550683e-02 0.00000000e+00 0.00000000e+00 ... 6.16313337e-05\n",
            " 1.15071245e-01 0.00000000e+00]\n",
            "2048\n",
            "[0.19662647 0.01115938 0.00136    ... 0.00022168 0.00649355 0.        ]\n",
            "2048\n",
            "[0.02817176 0.045335   0.00018269 ... 0.         0.08720877 0.        ]\n",
            "2048\n",
            "[0.         0.         0.         ... 0.         0.16865474 0.        ]\n",
            "2048\n",
            "[0.23772229 0.         0.         ... 0.         0.01345793 0.        ]\n",
            "2048\n",
            "[0.01289693 0.00016921 0.         ... 0.         0.09651019 0.        ]\n",
            "2048\n",
            "[0.04081146 0.02077107 0.00032782 ... 0.08338549 0.05053323 0.        ]\n",
            "2048\n",
            "[0.         0.04998069 0.         ... 0.05100992 0.09980741 0.        ]\n",
            "2048\n",
            "[0.00848753 0.         0.         ... 0.         0.04592417 0.        ]\n",
            "2048\n",
            "[0.00672814 0.04780473 0.         ... 0.         0.13762008 0.07149918]\n",
            "2048\n",
            "[0.20110017 0.01264511 0.00041011 ... 0.         0.00883784 0.        ]\n",
            "2048\n",
            "[0.04491189 0.00754641 0.         ... 0.         0.04778551 0.        ]\n",
            "2048\n",
            "[0.04281051 0.04554385 0.         ... 0.00111808 0.16563492 0.        ]\n",
            "2048\n",
            "[0.         0.03650428 0.         ... 0.         0.11116301 0.        ]\n",
            "2048\n",
            "[0.05078268 0.05017362 0.         ... 0.02534981 0.15153989 0.        ]\n",
            "2048\n",
            "[0.00302785 0.01525055 0.         ... 0.         0.23231873 0.        ]\n",
            "2048\n",
            "[0.08475467 0.         0.         ... 0.16201946 0.05254319 0.        ]\n",
            "2048\n",
            "[0.00946394 0.         0.         ... 0.         0.12848973 0.        ]\n",
            "2048\n",
            "[0.02292717 0.         0.         ... 0.         0.09221993 0.        ]\n",
            "2048\n",
            "[0.         0.0654064  0.         ... 0.00285597 0.13290074 0.        ]\n",
            "2048\n",
            "[0.        0.        0.        ... 0.        0.2198072 0.       ]\n",
            "2048\n",
            "[0.03157043 0.         0.         ... 0.01762748 0.01555341 0.        ]\n",
            "2048\n",
            "[0.00302785 0.01525055 0.         ... 0.         0.23231873 0.        ]\n",
            "2048\n",
            "[0.03163286 0.         0.         ... 0.         0.12002974 0.        ]\n",
            "2048\n",
            "[0.         0.00798947 0.         ... 0.         0.17511591 0.        ]\n",
            "2048\n",
            "[0.0327483  0.00486733 0.         ... 0.         0.18888555 0.        ]\n",
            "2048\n",
            "[0.01014763 0.04263991 0.         ... 0.         0.16594866 0.        ]\n",
            "2048\n",
            "[0.01533642 0.         0.         ... 0.         0.02915496 0.        ]\n",
            "2048\n",
            "[0.10853238 0.00162149 0.         ... 0.         0.03433616 0.00341468]\n",
            "2048\n",
            "[0.16208638 0.         0.         ... 0.         0.17581502 0.        ]\n",
            "2048\n",
            "[0.0095757  0.03122105 0.         ... 0.         0.09675531 0.        ]\n",
            "2048\n",
            "[0.         0.         0.         ... 0.         0.31498748 0.        ]\n",
            "2048\n",
            "[0.         0.         0.         ... 0.         0.17714584 0.        ]\n",
            "2048\n",
            "[0.        0.        0.        ... 0.        0.1346801 0.       ]\n",
            "2048\n",
            "[0.         0.         0.         ... 0.         0.09320474 0.        ]\n",
            "2048\n",
            "[0.       0.       0.       ... 0.       0.151191 0.      ]\n",
            "2048\n",
            "[0.       0.       0.       ... 0.       0.184884 0.      ]\n",
            "2048\n",
            "[0.         0.         0.         ... 0.0020354  0.10346761 0.        ]\n",
            "2048\n",
            "[0.         0.00043953 0.         ... 0.         0.11495905 0.        ]\n",
            "2048\n",
            "[0.         0.02296043 0.03793894 ... 0.00753333 0.00828414 0.        ]\n",
            "2048\n",
            "[0.         0.00551143 0.         ... 0.         0.18335763 0.        ]\n",
            "2048\n",
            "[0.         0.         0.         ... 0.         0.20420466 0.        ]\n",
            "2048\n",
            "[0.         0.         0.         ... 0.         0.22478068 0.        ]\n",
            "2048\n",
            "[0.0082794  0.         0.         ... 0.00065925 0.07180103 0.        ]\n",
            "2048\n",
            "[0.         0.00251198 0.         ... 0.         0.24723952 0.        ]\n",
            "2048\n",
            "[0.         0.00686609 0.         ... 0.         0.17933586 0.        ]\n",
            "2048\n",
            "[0.         0.00121939 0.         ... 0.         0.13377264 0.        ]\n",
            "2048\n",
            "[0.         0.         0.         ... 0.         0.11845894 0.        ]\n",
            "2048\n",
            "[0.        0.        0.        ... 0.        0.1938254 0.       ]\n",
            "2048\n",
            "[0.         0.         0.         ... 0.         0.12165172 0.        ]\n",
            "2048\n",
            "[0.         0.         0.         ... 0.         0.23523101 0.        ]\n",
            "2048\n",
            "[0.         0.00973001 0.         ... 0.         0.09898452 0.        ]\n",
            "2048\n",
            "[0.00331723 0.         0.         ... 0.         0.09297778 0.        ]\n",
            "2048\n",
            "[0.18770146 0.1055755  0.         ... 0.14423846 0.04643679 0.        ]\n",
            "2048\n",
            "[0.24786396 0.         0.         ... 0.         0.03545599 0.00124241]\n",
            "2048\n",
            "[0.6497955  0.         0.01427079 ... 0.         0.1282365  0.00592885]\n",
            "2048\n",
            "[0.05796269 0.         0.         ... 0.20706946 0.09086295 0.        ]\n",
            "2048\n",
            "[0.         0.00418193 0.         ... 0.         0.01674763 0.        ]\n",
            "2048\n",
            "[0.11117106 0.0011239  0.         ... 0.         0.0350521  0.        ]\n",
            "2048\n",
            "[0.08078805 0.         0.         ... 0.         0.03127834 0.        ]\n",
            "2048\n",
            "[0.25036168 0.         0.         ... 0.         0.02860372 0.        ]\n",
            "2048\n",
            "[0.0364228  0.         0.         ... 0.         0.03063323 0.        ]\n",
            "2048\n",
            "[0.08045565 0.01384508 0.         ... 0.         0.07722965 0.        ]\n",
            "2048\n",
            "[0.00057999 0.06503122 0.         ... 0.         0.0201682  0.        ]\n",
            "2048\n",
            "[0.05321173 0.         0.         ... 0.         0.1240932  0.        ]\n",
            "2048\n",
            "[0.10260163 0.00699212 0.         ... 0.         0.07004047 0.        ]\n",
            "2048\n",
            "[0.15286902 0.         0.         ... 0.02267685 0.00832378 0.        ]\n",
            "2048\n",
            "[0.03907561 0.03491642 0.         ... 0.01285615 0.03132883 0.        ]\n",
            "2048\n",
            "[0.11305314 0.         0.         ... 0.05634302 0.05213127 0.        ]\n",
            "2048\n",
            "[0.00731741 0.19463594 0.00166289 ... 0.         0.12683918 0.        ]\n",
            "2048\n",
            "[0.10489392 0.         0.         ... 0.00252978 0.11591264 0.        ]\n",
            "2048\n",
            "[0.5767278  0.00297066 0.         ... 0.0010119  0.00676503 0.        ]\n"
          ]
        }
      ],
      "source": [
        "# drive.mount('/content/drive')  # 連結到自己的Google Drive\n",
        "# os.chdir('/content/drive/My Drive/') # 後面加上自己的Google Drive內的路徑\n",
        "# allFile = os.walk('/content/drive/My Drive/') # 路徑與上一行相同\n",
        "os.chdir('/dataset')\n",
        "allFile = os.walk('/dataset')\n",
        "i = 0\n",
        "data_2 = []\n",
        "p = pipeline('image-embedding')\n",
        "for root,dirs,files in allFile:\n",
        "    for f in files:\n",
        "      vector = p(os.path.join(root,f))\n",
        "      print(len(vector))\n",
        "      print(vector)\n",
        "      data_2.append([i,vector,(os.path.join(root,f)).split('/')[-2],0])\n",
        "      i += 1"
      ]
    },
    {
      "cell_type": "code",
      "execution_count": null,
      "metadata": {
        "colab": {
          "base_uri": "https://localhost:8080/",
          "height": 506
        },
        "id": "9hDqMsVszfnT",
        "outputId": "69f714b3-26e3-4b62-d086-21b97b41d1aa"
      },
      "outputs": [
        {
          "name": "stdout",
          "output_type": "stream",
          "text": [
            "上傳相片\n"
          ]
        },
        {
          "ename": "KeyboardInterrupt",
          "evalue": "ignored",
          "output_type": "error",
          "traceback": [
            "\u001b[0;31m---------------------------------------------------------------------------\u001b[0m",
            "\u001b[0;31mAttributeError\u001b[0m                            Traceback (most recent call last)",
            "\u001b[0;32m/usr/local/lib/python3.7/dist-packages/PIL/ImageFile.py\u001b[0m in \u001b[0;36m_save\u001b[0;34m(im, fp, tile, bufsize)\u001b[0m\n\u001b[1;32m    495\u001b[0m     \u001b[0;32mtry\u001b[0m\u001b[0;34m:\u001b[0m\u001b[0;34m\u001b[0m\u001b[0;34m\u001b[0m\u001b[0m\n\u001b[0;32m--> 496\u001b[0;31m         \u001b[0mfh\u001b[0m \u001b[0;34m=\u001b[0m \u001b[0mfp\u001b[0m\u001b[0;34m.\u001b[0m\u001b[0mfileno\u001b[0m\u001b[0;34m(\u001b[0m\u001b[0;34m)\u001b[0m\u001b[0;34m\u001b[0m\u001b[0;34m\u001b[0m\u001b[0m\n\u001b[0m\u001b[1;32m    497\u001b[0m         \u001b[0mfp\u001b[0m\u001b[0;34m.\u001b[0m\u001b[0mflush\u001b[0m\u001b[0;34m(\u001b[0m\u001b[0;34m)\u001b[0m\u001b[0;34m\u001b[0m\u001b[0;34m\u001b[0m\u001b[0m\n",
            "\u001b[0;31mAttributeError\u001b[0m: '_idat' object has no attribute 'fileno'",
            "\nDuring handling of the above exception, another exception occurred:\n",
            "\u001b[0;31mKeyboardInterrupt\u001b[0m                         Traceback (most recent call last)",
            "\u001b[0;32m<ipython-input-5-b89c84e9dd92>\u001b[0m in \u001b[0;36m<module>\u001b[0;34m\u001b[0m\n\u001b[1;32m     25\u001b[0m         \u001b[0mj\u001b[0m \u001b[0;34m+=\u001b[0m \u001b[0;36m1\u001b[0m\u001b[0;34m\u001b[0m\u001b[0;34m\u001b[0m\u001b[0m\n\u001b[1;32m     26\u001b[0m   \u001b[0;32mreturn\u001b[0m \u001b[0mresult\u001b[0m\u001b[0;34m\u001b[0m\u001b[0;34m\u001b[0m\u001b[0m\n\u001b[0;32m---> 27\u001b[0;31m \u001b[0msearch_image\u001b[0m\u001b[0;34m(\u001b[0m\u001b[0;34m'/content/drive/MyDrive/智慧多媒體/測試集/牽牛花.png'\u001b[0m\u001b[0;34m)\u001b[0m\u001b[0;34m\u001b[0m\u001b[0;34m\u001b[0m\u001b[0m\n\u001b[0m",
            "\u001b[0;32m<ipython-input-5-b89c84e9dd92>\u001b[0m in \u001b[0;36msearch_image\u001b[0;34m(image)\u001b[0m\n\u001b[1;32m      1\u001b[0m \u001b[0;32mdef\u001b[0m \u001b[0msearch_image\u001b[0m\u001b[0;34m(\u001b[0m\u001b[0mimage\u001b[0m\u001b[0;34m)\u001b[0m\u001b[0;34m:\u001b[0m\u001b[0;34m\u001b[0m\u001b[0;34m\u001b[0m\u001b[0m\n\u001b[1;32m      2\u001b[0m   \u001b[0mprint\u001b[0m\u001b[0;34m(\u001b[0m\u001b[0;34m'上傳相片'\u001b[0m\u001b[0;34m)\u001b[0m\u001b[0;34m\u001b[0m\u001b[0;34m\u001b[0m\u001b[0m\n\u001b[0;32m----> 3\u001b[0;31m   \u001b[0mcv2_imshow\u001b[0m\u001b[0;34m(\u001b[0m\u001b[0mcv2\u001b[0m\u001b[0;34m.\u001b[0m\u001b[0mimread\u001b[0m\u001b[0;34m(\u001b[0m\u001b[0mimage\u001b[0m\u001b[0;34m)\u001b[0m\u001b[0;34m)\u001b[0m\u001b[0;34m\u001b[0m\u001b[0;34m\u001b[0m\u001b[0m\n\u001b[0m\u001b[1;32m      4\u001b[0m   \u001b[0mp\u001b[0m \u001b[0;34m=\u001b[0m \u001b[0mpipeline\u001b[0m\u001b[0;34m(\u001b[0m\u001b[0;34m'image-embedding'\u001b[0m\u001b[0;34m)\u001b[0m\u001b[0;34m\u001b[0m\u001b[0;34m\u001b[0m\u001b[0m\n\u001b[1;32m      5\u001b[0m   \u001b[0msample\u001b[0m \u001b[0;34m=\u001b[0m \u001b[0mp\u001b[0m\u001b[0;34m(\u001b[0m\u001b[0mimage\u001b[0m\u001b[0;34m)\u001b[0m\u001b[0;34m\u001b[0m\u001b[0;34m\u001b[0m\u001b[0m\n",
            "\u001b[0;32m/usr/local/lib/python3.7/dist-packages/google/colab/patches/__init__.py\u001b[0m in \u001b[0;36mcv2_imshow\u001b[0;34m(a)\u001b[0m\n\u001b[1;32m     23\u001b[0m     \u001b[0;32melse\u001b[0m\u001b[0;34m:\u001b[0m\u001b[0;34m\u001b[0m\u001b[0;34m\u001b[0m\u001b[0m\n\u001b[1;32m     24\u001b[0m       \u001b[0ma\u001b[0m \u001b[0;34m=\u001b[0m \u001b[0mcv2\u001b[0m\u001b[0;34m.\u001b[0m\u001b[0mcvtColor\u001b[0m\u001b[0;34m(\u001b[0m\u001b[0ma\u001b[0m\u001b[0;34m,\u001b[0m \u001b[0mcv2\u001b[0m\u001b[0;34m.\u001b[0m\u001b[0mCOLOR_BGR2RGB\u001b[0m\u001b[0;34m)\u001b[0m\u001b[0;34m\u001b[0m\u001b[0;34m\u001b[0m\u001b[0m\n\u001b[0;32m---> 25\u001b[0;31m   \u001b[0mdisplay\u001b[0m\u001b[0;34m.\u001b[0m\u001b[0mdisplay\u001b[0m\u001b[0;34m(\u001b[0m\u001b[0mPIL\u001b[0m\u001b[0;34m.\u001b[0m\u001b[0mImage\u001b[0m\u001b[0;34m.\u001b[0m\u001b[0mfromarray\u001b[0m\u001b[0;34m(\u001b[0m\u001b[0ma\u001b[0m\u001b[0;34m)\u001b[0m\u001b[0;34m)\u001b[0m\u001b[0;34m\u001b[0m\u001b[0;34m\u001b[0m\u001b[0m\n\u001b[0m\u001b[1;32m     26\u001b[0m \u001b[0;34m\u001b[0m\u001b[0m\n\u001b[1;32m     27\u001b[0m \u001b[0;34m\u001b[0m\u001b[0m\n",
            "\u001b[0;32m/usr/local/lib/python3.7/dist-packages/IPython/core/display.py\u001b[0m in \u001b[0;36mdisplay\u001b[0;34m(include, exclude, metadata, transient, display_id, *objs, **kwargs)\u001b[0m\n\u001b[1;32m    311\u001b[0m             \u001b[0mpublish_display_data\u001b[0m\u001b[0;34m(\u001b[0m\u001b[0mdata\u001b[0m\u001b[0;34m=\u001b[0m\u001b[0mobj\u001b[0m\u001b[0;34m,\u001b[0m \u001b[0mmetadata\u001b[0m\u001b[0;34m=\u001b[0m\u001b[0mmetadata\u001b[0m\u001b[0;34m,\u001b[0m \u001b[0;34m**\u001b[0m\u001b[0mkwargs\u001b[0m\u001b[0;34m)\u001b[0m\u001b[0;34m\u001b[0m\u001b[0;34m\u001b[0m\u001b[0m\n\u001b[1;32m    312\u001b[0m         \u001b[0;32melse\u001b[0m\u001b[0;34m:\u001b[0m\u001b[0;34m\u001b[0m\u001b[0;34m\u001b[0m\u001b[0m\n\u001b[0;32m--> 313\u001b[0;31m             \u001b[0mformat_dict\u001b[0m\u001b[0;34m,\u001b[0m \u001b[0mmd_dict\u001b[0m \u001b[0;34m=\u001b[0m \u001b[0mformat\u001b[0m\u001b[0;34m(\u001b[0m\u001b[0mobj\u001b[0m\u001b[0;34m,\u001b[0m \u001b[0minclude\u001b[0m\u001b[0;34m=\u001b[0m\u001b[0minclude\u001b[0m\u001b[0;34m,\u001b[0m \u001b[0mexclude\u001b[0m\u001b[0;34m=\u001b[0m\u001b[0mexclude\u001b[0m\u001b[0;34m)\u001b[0m\u001b[0;34m\u001b[0m\u001b[0;34m\u001b[0m\u001b[0m\n\u001b[0m\u001b[1;32m    314\u001b[0m             \u001b[0;32mif\u001b[0m \u001b[0;32mnot\u001b[0m \u001b[0mformat_dict\u001b[0m\u001b[0;34m:\u001b[0m\u001b[0;34m\u001b[0m\u001b[0;34m\u001b[0m\u001b[0m\n\u001b[1;32m    315\u001b[0m                 \u001b[0;31m# nothing to display (e.g. _ipython_display_ took over)\u001b[0m\u001b[0;34m\u001b[0m\u001b[0;34m\u001b[0m\u001b[0;34m\u001b[0m\u001b[0m\n",
            "\u001b[0;32m/usr/local/lib/python3.7/dist-packages/IPython/core/formatters.py\u001b[0m in \u001b[0;36mformat\u001b[0;34m(self, obj, include, exclude)\u001b[0m\n\u001b[1;32m    178\u001b[0m             \u001b[0mmd\u001b[0m \u001b[0;34m=\u001b[0m \u001b[0;32mNone\u001b[0m\u001b[0;34m\u001b[0m\u001b[0;34m\u001b[0m\u001b[0m\n\u001b[1;32m    179\u001b[0m             \u001b[0;32mtry\u001b[0m\u001b[0;34m:\u001b[0m\u001b[0;34m\u001b[0m\u001b[0;34m\u001b[0m\u001b[0m\n\u001b[0;32m--> 180\u001b[0;31m                 \u001b[0mdata\u001b[0m \u001b[0;34m=\u001b[0m \u001b[0mformatter\u001b[0m\u001b[0;34m(\u001b[0m\u001b[0mobj\u001b[0m\u001b[0;34m)\u001b[0m\u001b[0;34m\u001b[0m\u001b[0;34m\u001b[0m\u001b[0m\n\u001b[0m\u001b[1;32m    181\u001b[0m             \u001b[0;32mexcept\u001b[0m\u001b[0;34m:\u001b[0m\u001b[0;34m\u001b[0m\u001b[0;34m\u001b[0m\u001b[0m\n\u001b[1;32m    182\u001b[0m                 \u001b[0;31m# FIXME: log the exception\u001b[0m\u001b[0;34m\u001b[0m\u001b[0;34m\u001b[0m\u001b[0;34m\u001b[0m\u001b[0m\n",
            "\u001b[0;32m<decorator-gen-2>\u001b[0m in \u001b[0;36m__call__\u001b[0;34m(self, obj)\u001b[0m\n",
            "\u001b[0;32m/usr/local/lib/python3.7/dist-packages/IPython/core/formatters.py\u001b[0m in \u001b[0;36mcatch_format_error\u001b[0;34m(method, self, *args, **kwargs)\u001b[0m\n\u001b[1;32m    222\u001b[0m     \u001b[0;34m\"\"\"show traceback on failed format call\"\"\"\u001b[0m\u001b[0;34m\u001b[0m\u001b[0;34m\u001b[0m\u001b[0m\n\u001b[1;32m    223\u001b[0m     \u001b[0;32mtry\u001b[0m\u001b[0;34m:\u001b[0m\u001b[0;34m\u001b[0m\u001b[0;34m\u001b[0m\u001b[0m\n\u001b[0;32m--> 224\u001b[0;31m         \u001b[0mr\u001b[0m \u001b[0;34m=\u001b[0m \u001b[0mmethod\u001b[0m\u001b[0;34m(\u001b[0m\u001b[0mself\u001b[0m\u001b[0;34m,\u001b[0m \u001b[0;34m*\u001b[0m\u001b[0margs\u001b[0m\u001b[0;34m,\u001b[0m \u001b[0;34m**\u001b[0m\u001b[0mkwargs\u001b[0m\u001b[0;34m)\u001b[0m\u001b[0;34m\u001b[0m\u001b[0;34m\u001b[0m\u001b[0m\n\u001b[0m\u001b[1;32m    225\u001b[0m     \u001b[0;32mexcept\u001b[0m \u001b[0mNotImplementedError\u001b[0m\u001b[0;34m:\u001b[0m\u001b[0;34m\u001b[0m\u001b[0;34m\u001b[0m\u001b[0m\n\u001b[1;32m    226\u001b[0m         \u001b[0;31m# don't warn on NotImplementedErrors\u001b[0m\u001b[0;34m\u001b[0m\u001b[0;34m\u001b[0m\u001b[0;34m\u001b[0m\u001b[0m\n",
            "\u001b[0;32m/usr/local/lib/python3.7/dist-packages/IPython/core/formatters.py\u001b[0m in \u001b[0;36m__call__\u001b[0;34m(self, obj)\u001b[0m\n\u001b[1;32m    343\u001b[0m             \u001b[0mmethod\u001b[0m \u001b[0;34m=\u001b[0m \u001b[0mget_real_method\u001b[0m\u001b[0;34m(\u001b[0m\u001b[0mobj\u001b[0m\u001b[0;34m,\u001b[0m \u001b[0mself\u001b[0m\u001b[0;34m.\u001b[0m\u001b[0mprint_method\u001b[0m\u001b[0;34m)\u001b[0m\u001b[0;34m\u001b[0m\u001b[0;34m\u001b[0m\u001b[0m\n\u001b[1;32m    344\u001b[0m             \u001b[0;32mif\u001b[0m \u001b[0mmethod\u001b[0m \u001b[0;32mis\u001b[0m \u001b[0;32mnot\u001b[0m \u001b[0;32mNone\u001b[0m\u001b[0;34m:\u001b[0m\u001b[0;34m\u001b[0m\u001b[0;34m\u001b[0m\u001b[0m\n\u001b[0;32m--> 345\u001b[0;31m                 \u001b[0;32mreturn\u001b[0m \u001b[0mmethod\u001b[0m\u001b[0;34m(\u001b[0m\u001b[0;34m)\u001b[0m\u001b[0;34m\u001b[0m\u001b[0;34m\u001b[0m\u001b[0m\n\u001b[0m\u001b[1;32m    346\u001b[0m             \u001b[0;32mreturn\u001b[0m \u001b[0;32mNone\u001b[0m\u001b[0;34m\u001b[0m\u001b[0;34m\u001b[0m\u001b[0m\n\u001b[1;32m    347\u001b[0m         \u001b[0;32melse\u001b[0m\u001b[0;34m:\u001b[0m\u001b[0;34m\u001b[0m\u001b[0;34m\u001b[0m\u001b[0m\n",
            "\u001b[0;32m/usr/local/lib/python3.7/dist-packages/PIL/Image.py\u001b[0m in \u001b[0;36m_repr_png_\u001b[0;34m(self)\u001b[0m\n\u001b[1;32m    669\u001b[0m         \"\"\"\n\u001b[1;32m    670\u001b[0m         \u001b[0mb\u001b[0m \u001b[0;34m=\u001b[0m \u001b[0mio\u001b[0m\u001b[0;34m.\u001b[0m\u001b[0mBytesIO\u001b[0m\u001b[0;34m(\u001b[0m\u001b[0;34m)\u001b[0m\u001b[0;34m\u001b[0m\u001b[0;34m\u001b[0m\u001b[0m\n\u001b[0;32m--> 671\u001b[0;31m         \u001b[0mself\u001b[0m\u001b[0;34m.\u001b[0m\u001b[0msave\u001b[0m\u001b[0;34m(\u001b[0m\u001b[0mb\u001b[0m\u001b[0;34m,\u001b[0m \u001b[0;34m\"PNG\"\u001b[0m\u001b[0;34m)\u001b[0m\u001b[0;34m\u001b[0m\u001b[0;34m\u001b[0m\u001b[0m\n\u001b[0m\u001b[1;32m    672\u001b[0m         \u001b[0;32mreturn\u001b[0m \u001b[0mb\u001b[0m\u001b[0;34m.\u001b[0m\u001b[0mgetvalue\u001b[0m\u001b[0;34m(\u001b[0m\u001b[0;34m)\u001b[0m\u001b[0;34m\u001b[0m\u001b[0;34m\u001b[0m\u001b[0m\n\u001b[1;32m    673\u001b[0m \u001b[0;34m\u001b[0m\u001b[0m\n",
            "\u001b[0;32m/usr/local/lib/python3.7/dist-packages/PIL/Image.py\u001b[0m in \u001b[0;36msave\u001b[0;34m(self, fp, format, **params)\u001b[0m\n\u001b[1;32m   2132\u001b[0m \u001b[0;34m\u001b[0m\u001b[0m\n\u001b[1;32m   2133\u001b[0m         \u001b[0;32mtry\u001b[0m\u001b[0;34m:\u001b[0m\u001b[0;34m\u001b[0m\u001b[0;34m\u001b[0m\u001b[0m\n\u001b[0;32m-> 2134\u001b[0;31m             \u001b[0msave_handler\u001b[0m\u001b[0;34m(\u001b[0m\u001b[0mself\u001b[0m\u001b[0;34m,\u001b[0m \u001b[0mfp\u001b[0m\u001b[0;34m,\u001b[0m \u001b[0mfilename\u001b[0m\u001b[0;34m)\u001b[0m\u001b[0;34m\u001b[0m\u001b[0;34m\u001b[0m\u001b[0m\n\u001b[0m\u001b[1;32m   2135\u001b[0m         \u001b[0;32mfinally\u001b[0m\u001b[0;34m:\u001b[0m\u001b[0;34m\u001b[0m\u001b[0;34m\u001b[0m\u001b[0m\n\u001b[1;32m   2136\u001b[0m             \u001b[0;31m# do what we can to clean up\u001b[0m\u001b[0;34m\u001b[0m\u001b[0;34m\u001b[0m\u001b[0;34m\u001b[0m\u001b[0m\n",
            "\u001b[0;32m/usr/local/lib/python3.7/dist-packages/PIL/PngImagePlugin.py\u001b[0m in \u001b[0;36m_save\u001b[0;34m(im, fp, filename, chunk, save_all)\u001b[0m\n\u001b[1;32m   1289\u001b[0m         \u001b[0m_write_multiple_frames\u001b[0m\u001b[0;34m(\u001b[0m\u001b[0mim\u001b[0m\u001b[0;34m,\u001b[0m \u001b[0mfp\u001b[0m\u001b[0;34m,\u001b[0m \u001b[0mchunk\u001b[0m\u001b[0;34m,\u001b[0m \u001b[0mrawmode\u001b[0m\u001b[0;34m)\u001b[0m\u001b[0;34m\u001b[0m\u001b[0;34m\u001b[0m\u001b[0m\n\u001b[1;32m   1290\u001b[0m     \u001b[0;32melse\u001b[0m\u001b[0;34m:\u001b[0m\u001b[0;34m\u001b[0m\u001b[0;34m\u001b[0m\u001b[0m\n\u001b[0;32m-> 1291\u001b[0;31m         \u001b[0mImageFile\u001b[0m\u001b[0;34m.\u001b[0m\u001b[0m_save\u001b[0m\u001b[0;34m(\u001b[0m\u001b[0mim\u001b[0m\u001b[0;34m,\u001b[0m \u001b[0m_idat\u001b[0m\u001b[0;34m(\u001b[0m\u001b[0mfp\u001b[0m\u001b[0;34m,\u001b[0m \u001b[0mchunk\u001b[0m\u001b[0;34m)\u001b[0m\u001b[0;34m,\u001b[0m \u001b[0;34m[\u001b[0m\u001b[0;34m(\u001b[0m\u001b[0;34m\"zip\"\u001b[0m\u001b[0;34m,\u001b[0m \u001b[0;34m(\u001b[0m\u001b[0;36m0\u001b[0m\u001b[0;34m,\u001b[0m \u001b[0;36m0\u001b[0m\u001b[0;34m)\u001b[0m \u001b[0;34m+\u001b[0m \u001b[0mim\u001b[0m\u001b[0;34m.\u001b[0m\u001b[0msize\u001b[0m\u001b[0;34m,\u001b[0m \u001b[0;36m0\u001b[0m\u001b[0;34m,\u001b[0m \u001b[0mrawmode\u001b[0m\u001b[0;34m)\u001b[0m\u001b[0;34m]\u001b[0m\u001b[0;34m)\u001b[0m\u001b[0;34m\u001b[0m\u001b[0;34m\u001b[0m\u001b[0m\n\u001b[0m\u001b[1;32m   1292\u001b[0m \u001b[0;34m\u001b[0m\u001b[0m\n\u001b[1;32m   1293\u001b[0m     \u001b[0mchunk\u001b[0m\u001b[0;34m(\u001b[0m\u001b[0mfp\u001b[0m\u001b[0;34m,\u001b[0m \u001b[0;34mb\"IEND\"\u001b[0m\u001b[0;34m,\u001b[0m \u001b[0;34mb\"\"\u001b[0m\u001b[0;34m)\u001b[0m\u001b[0;34m\u001b[0m\u001b[0;34m\u001b[0m\u001b[0m\n",
            "\u001b[0;32m/usr/local/lib/python3.7/dist-packages/PIL/ImageFile.py\u001b[0m in \u001b[0;36m_save\u001b[0;34m(im, fp, tile, bufsize)\u001b[0m\n\u001b[1;32m    508\u001b[0m             \u001b[0;32melse\u001b[0m\u001b[0;34m:\u001b[0m\u001b[0;34m\u001b[0m\u001b[0;34m\u001b[0m\u001b[0m\n\u001b[1;32m    509\u001b[0m                 \u001b[0;32mwhile\u001b[0m \u001b[0;32mTrue\u001b[0m\u001b[0;34m:\u001b[0m\u001b[0;34m\u001b[0m\u001b[0;34m\u001b[0m\u001b[0m\n\u001b[0;32m--> 510\u001b[0;31m                     \u001b[0ml\u001b[0m\u001b[0;34m,\u001b[0m \u001b[0ms\u001b[0m\u001b[0;34m,\u001b[0m \u001b[0md\u001b[0m \u001b[0;34m=\u001b[0m \u001b[0me\u001b[0m\u001b[0;34m.\u001b[0m\u001b[0mencode\u001b[0m\u001b[0;34m(\u001b[0m\u001b[0mbufsize\u001b[0m\u001b[0;34m)\u001b[0m\u001b[0;34m\u001b[0m\u001b[0;34m\u001b[0m\u001b[0m\n\u001b[0m\u001b[1;32m    511\u001b[0m                     \u001b[0mfp\u001b[0m\u001b[0;34m.\u001b[0m\u001b[0mwrite\u001b[0m\u001b[0;34m(\u001b[0m\u001b[0md\u001b[0m\u001b[0;34m)\u001b[0m\u001b[0;34m\u001b[0m\u001b[0;34m\u001b[0m\u001b[0m\n\u001b[1;32m    512\u001b[0m                     \u001b[0;32mif\u001b[0m \u001b[0ms\u001b[0m\u001b[0;34m:\u001b[0m\u001b[0;34m\u001b[0m\u001b[0;34m\u001b[0m\u001b[0m\n",
            "\u001b[0;31mKeyboardInterrupt\u001b[0m: "
          ]
        }
      ],
      "source": [
        "def search_image(image):\n",
        "  print('上傳相片')\n",
        "  cv2_imshow(cv2.imread(image))\n",
        "  p = pipeline('image-embedding')\n",
        "  sample = p(image)\n",
        "  for i in range(len(data_2)):\n",
        "    data_2[i][-1] = (np.dot(sample, data_2[i][1])/(norm(sample)*norm(data_2[i][1])))\n",
        "  data_2.sort(key = lambda d:d[3],reverse=True)\n",
        "  result = []\n",
        "  # drive.mount('/content/drive')  # 連結到自己的Google Drive\n",
        "  # os.chdir('/content/drive/My Drive/') # 後面加上自己的Google Drive內的路徑\n",
        "  # allFile = os.walk('/content/drive/My Drive/') # 路徑與上一行相同\n",
        "  os.chdir('/dataset')\n",
        "  allFile = os.walk('/dataset')\n",
        "  j = 0\n",
        "  print('搜尋圖片')\n",
        "  for i in range(5):\n",
        "    j = 0\n",
        "    # allFile = os.walk('/content/drive/My Drive/') # 路徑與上一行相同\n",
        "    allFile = os.walk('/dataset')\n",
        "    for root,dirs,files in allFile:\n",
        "      for f in files:\n",
        "        if(data_2[i][0] == j):\n",
        "          print(data_2[i][2])\n",
        "          out = cv2.imread(os.path.join(root,f),1)\n",
        "          cv2_imshow(out)\n",
        "          result.append(out)\n",
        "        j += 1\n",
        "  return result\n",
        "# search_image('/content/drive/MyDrive/')  # Google Drive內的一張相片的路徑\n",
        "search_image('/testing_dataset/牽牛花.png')"
      ]
    },
    {
      "cell_type": "code",
      "execution_count": null,
      "metadata": {
        "colab": {
          "base_uri": "https://localhost:8080/",
          "height": 649
        },
        "id": "he3v1IN53pKN",
        "outputId": "fc3b6581-086c-4c8a-e1c0-eb3874463fac"
      },
      "outputs": [
        {
          "name": "stdout",
          "output_type": "stream",
          "text": [
            "Colab notebook detected. To show errors in colab notebook, set `debug=True` in `launch()`\n",
            "Running on public URL: https://4eadf0a51d98b560.gradio.app\n",
            "\n",
            "This share link expires in 72 hours. For free permanent hosting and GPU upgrades (NEW!), check out Spaces: https://huggingface.co/spaces\n"
          ]
        },
        {
          "data": {
            "text/html": [
              "<div><iframe src=\"https://4eadf0a51d98b560.gradio.app\" width=\"900\" height=\"500\" allow=\"autoplay; camera; microphone; clipboard-read; clipboard-write;\" frameborder=\"0\" allowfullscreen></iframe></div>"
            ],
            "text/plain": [
              "<IPython.core.display.HTML object>"
            ]
          },
          "metadata": {},
          "output_type": "display_data"
        },
        {
          "data": {
            "text/plain": [
              "(<gradio.routes.App at 0x7f1e12f1a610>,\n",
              " 'http://127.0.0.1:7863/',\n",
              " 'https://4eadf0a51d98b560.gradio.app')"
            ]
          },
          "execution_count": 49,
          "metadata": {},
          "output_type": "execute_result"
        }
      ],
      "source": [
        "interface = gr.Interface(fn=search_image, inputs=\"image\", outputs=[gr.outputs.Image(type=\"file\", label=None) for _ in range(5)])\n",
        "interface.launch()"
      ]
    }
  ],
  "metadata": {
    "colab": {
      "provenance": []
    },
    "gpuClass": "standard",
    "kernelspec": {
      "display_name": "Python 3",
      "name": "python3"
    },
    "language_info": {
      "name": "python"
    }
  },
  "nbformat": 4,
  "nbformat_minor": 0
}
